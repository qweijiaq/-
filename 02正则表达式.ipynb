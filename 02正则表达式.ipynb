{
 "metadata": {
  "language_info": {
   "codemirror_mode": {
    "name": "ipython",
    "version": 3
   },
   "file_extension": ".py",
   "mimetype": "text/x-python",
   "name": "python",
   "nbconvert_exporter": "python",
   "pygments_lexer": "ipython3",
   "version": "3.8.5-final"
  },
  "orig_nbformat": 2,
  "kernelspec": {
   "name": "python3",
   "display_name": "Python 3",
   "language": "python"
  }
 },
 "nbformat": 4,
 "nbformat_minor": 2,
 "cells": [
  {
   "source": [
    "### 正则表达式"
   ],
   "cell_type": "markdown",
   "metadata": {}
  },
  {
   "source": [
    "1.常用元字符\n",
    "* .   匹配除换行以外所有字符\n",
    "* \\b  匹配单词的开始或结束\n",
    "* \\d 匹配数字\n",
    "* \\w 匹配数字、字母、下划线或汉字\n",
    "* \\s 匹配任意空白符，包括空格、制表符、换行符、中文全角空格等\n",
    "* ^ 匹配字符串的开始\n",
    "* $ 匹配字符串的结束"
   ],
   "cell_type": "markdown",
   "metadata": {}
  },
  {
   "source": [
    "2.重复\n",
    " * \\* 重复零次或更多次  \n",
    " * \\+ 重复一次或更多次  \n",
    " * ? 重复零次或一次  \n",
    " * {n} 重复n次  \n",
    " * {n,} 重复n次或更多次  \n",
    " * {n,m} 重复n到m次  "
   ],
   "cell_type": "markdown",
   "metadata": {}
  },
  {
   "source": [
    "3.字符合集   \n",
    "例如：   \n",
    "\\[abc\\]:匹配abc中任意字符   \n",
    "\\[a-zA-Z0-9_\\]:匹配26个字母大小写，0-9的数字或下划线的任意一个字符"
   ],
   "cell_type": "markdown",
   "metadata": {}
  },
  {
   "source": [
    "4.反义    \n",
    "  * \\W   匹配任意不是字母，数字，下划线 的字符\n",
    "\n",
    "  * \\S  匹配任意不是空白符的字符\n",
    "\n",
    "  * \\D  匹配任意非数字的字符\n",
    "\n",
    "  *  \\B  匹配不是单词开头或结束的位置\n",
    "\n",
    "  *  \\[^abc\\]  匹配除了abc以外的任意字符\n",
    "  \n",
    "  *  \\[^(123 | abc)\\]  匹配除了1、2、3和a、b、c以外的任意字符"
   ],
   "cell_type": "markdown",
   "metadata": {}
  },
  {
   "source": [
    "5.后向引用   \n",
    "* (exp)    匹配exp,并捕获文本到自动命名的组里   \n",
    "\n",
    "* (?<name>exp)  匹配exp,并捕获文本到名称为name的组里   \n",
    "\n",
    "* (?:exp)  匹配exp,不捕获匹配的文本，也不给此分组分配组号   "
   ],
   "cell_type": "markdown",
   "metadata": {}
  },
  {
   "source": [
    "6.零宽断言\n",
    "\n",
    "* (?=exp)  匹配exp前面的位置\n",
    "\n",
    ">　如 \"How are you doing\" 正则\"(?<txt>.+(?=ing))\" 这里取ing前所有的字符，并定义了一个捕获分组名字为 \"txt\" 而\"txt\"这个组里的值为\"How are you do\";\n",
    "\n",
    "* (?<=exp)  匹配exp后面的位置\n",
    "\n",
    ">　如 \"How are you doing\" 正则\"(?<txt>(?<=How).+)\" 这里取\"How\"之后所有的字符，并定义了一个捕获分组名字为 \"txt\" 而\"txt\"这个组里的值为\" are you doing\";\n",
    "\n",
    "* (?!exp)  匹配后面跟的不是exp的位置\n",
    "\n",
    ">　　如 \"123abc\" 正则 \"\\d{3}(?!\\d)\"匹配3位数字后非数字的结果\n",
    "\n",
    "* (?<!exp)  匹配前面不是exp的位置\n",
    "\n",
    ">　　如 \"abc123 \" 正则 \"(?<!\\[0-9\\])123\" 匹配\"123\"前面是非数字的结果也可写成\"(?!<\\d)123\""
   ],
   "cell_type": "markdown",
   "metadata": {}
  },
  {
   "source": [
    "7.贪婪和懒惰\n",
    "* \\* 重复零次或更多次，但尽可能少重复    \n",
    " * \\+ 重复一次或更多次，但尽可能少重复    \n",
    " * ? 重复零次或一次，但尽可能少重复      \n",
    " * {n} 重复n次，但尽可能少重复      \n",
    " * {n,} 重复n次或更多次，但尽可能少重复      \n",
    " * {n,m} 重复n到m次，但尽可能少重复     "
   ],
   "cell_type": "markdown",
   "metadata": {}
  },
  {
   "source": [
    "8.处理选项  \n",
    "* (?i)：忽略大小写(CASE_INSENSITIVE)  \n",
    "* (?x)：忽略空格字符(COMMENTS)  \n",
    "* (?s)：.匹配任意字符，包括换行符（DOTALL）  \n",
    "* (?m)：多行模式（MULTILINE）  \n",
    "* (?u)：对Unicode符大小写不敏感（UNICODE_CASE），必须启用CASE_INSENSITIVE  \n",
    "* (?d)：只有'\\n'才被认作一行的中止（UNIX_LINES）  "
   ],
   "cell_type": "markdown",
   "metadata": {}
  },
  {
   "source": [
    "### python和正则表达式"
   ],
   "cell_type": "markdown",
   "metadata": {}
  },
  {
   "source": [
    "区别：\n",
    "* \\\\A 仅匹配字符串开头\n",
    "* \\\\Z 仅匹配字符串末尾"
   ],
   "cell_type": "markdown",
   "metadata": {}
  },
  {
   "source": [
    "### re模块"
   ],
   "cell_type": "markdown",
   "metadata": {}
  },
  {
   "source": [
    "处理选项\n",
    "* re.I：忽略大小写   \n",
    "* re.X：忽略空格字符  \n",
    "* re.S：.匹配任意字符，包括换行符   \n",
    "* re.M：多行模式  \n",
    "* re.U：对Unicode符大小写不敏感  \n",
    "  "
   ],
   "cell_type": "markdown",
   "metadata": {}
  },
  {
   "cell_type": "code",
   "execution_count": 4,
   "metadata": {},
   "outputs": [
    {
     "output_type": "stream",
     "name": "stdout",
     "text": [
      "192\n匹配失败2\n"
     ]
    }
   ],
   "source": [
    "# coding:'utf-8\n",
    "import re\n",
    "# 将正则表达式编译成pattern对象\n",
    "pattern = re.compile(r'\\d+')\n",
    "# 使用re.match匹配文本，获得匹配结果，无法匹配时返回None\n",
    "# re.match是从头开始匹配，开头就匹配不到则返回None\n",
    "result1 = re.match(pattern,'192abc')\n",
    "if result1:\n",
    "    #  group() 同group（0）就是匹配正则表达式整体结果\n",
    "    # group(1) 列出第一个括号匹配部分，group(2) 列出第二个括号匹配部分，group(3) 列出第三个括号匹配部分\n",
    "    print(result1.group())\n",
    "else:\n",
    "    print('匹配失败1')\n",
    "result2 = re.match(pattern,'abc192')\n",
    "if result2:\n",
    "    print(result2.group())\n",
    "else:\n",
    "    print('匹配失败2')"
   ]
  },
  {
   "cell_type": "code",
   "execution_count": 6,
   "metadata": {},
   "outputs": [
    {
     "output_type": "stream",
     "name": "stdout",
     "text": [
      "192\n192\n"
     ]
    }
   ],
   "source": [
    "# coding:'utf-8\n",
    "import re\n",
    "# 将正则表达式编译成pattern对象\n",
    "pattern = re.compile(r'\\d+')\n",
    "# 使用re.search匹配文本，获得匹配结果，无法匹配时返回None\n",
    "# re.search是扫描这个String，不必从头匹配\n",
    "result1 = re.search(pattern,'192abc')\n",
    "if result1:\n",
    "    print(result1.group())\n",
    "else:\n",
    "    print('匹配失败1')\n",
    "result2 = re.search(pattern,'abc192')\n",
    "if result2:\n",
    "    print(result2.group())\n",
    "else:\n",
    "    print('匹配失败2')"
   ]
  },
  {
   "cell_type": "code",
   "execution_count": 7,
   "metadata": {},
   "outputs": [
    {
     "output_type": "stream",
     "name": "stdout",
     "text": [
      "['A', 'B', 'C', 'D', '']\n['ab', 'c', 'de', '']\n['A', 'B', 'C3D4']\n"
     ]
    }
   ],
   "source": [
    "import re\n",
    "pattern = re.compile(r'\\d+')\n",
    "# re.split按照能够匹配的子串将String分割后返回列表\n",
    "print(re.split(pattern,'A1B2C3D4'))\n",
    "print(re.split(pattern,'ab12c3de4'))\n",
    "# maxsplit=可以指定最大分割次数，默认全部分割\n",
    "print(re.split(pattern,'A1B2C3D4',maxsplit=2))"
   ]
  },
  {
   "cell_type": "code",
   "execution_count": 8,
   "metadata": {},
   "outputs": [
    {
     "output_type": "stream",
     "name": "stdout",
     "text": [
      "['1', '2', '3', '4']\n"
     ]
    }
   ],
   "source": [
    "import re\n",
    "pattern = re.compile(r'\\d+')\n",
    "# re.findall搜索整个string，以列表的形式返回所能匹配的所有字串\n",
    "print(re.findall(pattern,'A1B2C3D4'))"
   ]
  },
  {
   "cell_type": "code",
   "execution_count": 9,
   "metadata": {},
   "outputs": [
    {
     "output_type": "stream",
     "name": "stdout",
     "text": [
      "<re.Match object; span=(1, 2), match='1'>\n<re.Match object; span=(3, 4), match='2'>\n<re.Match object; span=(5, 6), match='3'>\n<re.Match object; span=(7, 8), match='4'>\n"
     ]
    }
   ],
   "source": [
    "import re\n",
    "pattern = re.compile(r'\\d+')\n",
    "# re.finditer搜索整个string，以迭代器的形式返回所能匹配的所有字串\n",
    "matchiter = re.finditer(pattern,'A1B2C3D4')\n",
    "for match in matchiter:\n",
    "    print(match)"
   ]
  },
  {
   "cell_type": "code",
   "execution_count": 16,
   "metadata": {},
   "outputs": [
    {
     "output_type": "stream",
     "name": "stdout",
     "text": [
      "say i, world hello!\nsay i, world hello!\nI Say, Hello World!\n"
     ]
    }
   ],
   "source": [
    "# re.sub 匹配后替换\n",
    "import re\n",
    "p = re.compile(r'(?P<word1>\\w+) (?P<word2>\\w+)')  # 使用名称引用\n",
    "s = 'i say, hello world!'\n",
    "print(p.sub(r'\\g<word2> \\g<word1>',s))\n",
    "p = re.compile(r'(\\w+) (\\w+)')   # 使用编号\n",
    "print(p.sub(r'\\2 \\1',s))\n",
    "def func(m):\n",
    "    return m.group(1).title() + ' ' + m.group(2).title()\n",
    "print(p.sub(func,s))"
   ]
  },
  {
   "cell_type": "code",
   "execution_count": 17,
   "metadata": {},
   "outputs": [
    {
     "output_type": "stream",
     "name": "stdout",
     "text": [
      "('say i, world hello!', 2)\n('I Say, Hello World!', 2)\n"
     ]
    }
   ],
   "source": [
    "# re.sub 匹配后替换,可以返回替换次数\n",
    "import re\n",
    "p = re.compile(r'(\\w+) (\\w+)')\n",
    "s = 'i say, hello world!'\n",
    "print(p.subn(r'\\2 \\1',s))\n",
    "def func(m):\n",
    "    return m.group(1).title() + ' ' + m.group(2).title()\n",
    "print(p.subn(func,s))"
   ]
  },
  {
   "source": [
    "match对象属性\n",
    "* pos 搜索的开始位置\n",
    "* endpos 搜索的结束位置\n",
    "* string 搜索的字符串\n",
    "* re 当前使用的正则表达式对象\n",
    "* lastindex 最后匹配的组索引\n",
    "* lastgroup 最后匹配的组名\n",
    "* group(index) 某个组匹配的结果\n",
    "* groups() 所有分组的匹配结果，每个分组组成的结果以列表返回\n",
    "* groupdict() 返回组名作为key，每个分组的匹配结果作为value的字典\n",
    "* start(\\[group\\]) 获取组的开始位置\n",
    "* end(\\[group\\]) 获取组的结束位置\n",
    "* span(\\[group\\]) 获取组的开始和结束位置\n",
    "* expand(template) 使用组的匹配结果来替换template中的内容，并把替换后的字符串返回"
   ],
   "cell_type": "markdown",
   "metadata": {}
  },
  {
   "cell_type": "code",
   "execution_count": 22,
   "metadata": {},
   "outputs": [
    {
     "output_type": "stream",
     "name": "stdout",
     "text": [
      "match.sting: I Love You !\nmatch.re: re.compile('(\\\\w+) (\\\\w+) (?P<word>.*)')\nmatch.pos: 0\nmatch.endpos: 12\nmatch.lastindex: 3\nmatch.lastgroup: word\n\n\nmatch.group(): I Love You !\nmatch.group(1,2): ('I', 'Love')\nmatch.groupdict(): {'word': 'You !'}\nmatch.start(2): 2\nmatch.end(2): 6\nmatch.span(2): (2, 6)\nmatch.expand('\\2 \\1 \\3'): Love I You !\n"
     ]
    }
   ],
   "source": [
    "import re\n",
    "pattern = re.compile(r'(\\w+) (\\w+) (?P<word>.*)')\n",
    "match = pattern.match('I Love You !')\n",
    "\n",
    "print(\"match.sting:\",match.string)\n",
    "print(\"match.re:\",match.re)\n",
    "print(\"match.pos:\",match.pos)\n",
    "print(\"match.endpos:\",match.endpos)\n",
    "print(\"match.lastindex:\",match.lastindex)\n",
    "print(\"match.lastgroup:\",match.lastgroup)\n",
    "print('\\n')\n",
    "\n",
    "print(\"match.group():\",match.group())\n",
    "print(\"match.group(1,2):\",match.group(1,2))\n",
    "print(\"match.groupdict():\",match.groupdict())\n",
    "print(\"match.start(2):\",match.start(2))\n",
    "print(\"match.end(2):\",match.end(2))\n",
    "print(\"match.span(2):\",match.span(2))\n",
    "print(\"match.expand('\\\\2 \\\\1 \\\\3'):\",match.expand(r'\\2 \\1 \\3'))"
   ]
  },
  {
   "cell_type": "code",
   "execution_count": null,
   "metadata": {},
   "outputs": [],
   "source": []
  }
 ]
}