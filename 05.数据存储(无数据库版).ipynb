{
 "metadata": {
  "language_info": {
   "codemirror_mode": {
    "name": "ipython",
    "version": 3
   },
   "file_extension": ".py",
   "mimetype": "text/x-python",
   "name": "python",
   "nbconvert_exporter": "python",
   "pygments_lexer": "ipython3",
   "version": "3.6.10-final"
  },
  "orig_nbformat": 2,
  "kernelspec": {
   "name": "python3",
   "display_name": "Python 3",
   "language": "python"
  }
 },
 "nbformat": 4,
 "nbformat_minor": 2,
 "cells": [
  {
   "source": [
    "### 1.HTML正文抽取"
   ],
   "cell_type": "markdown",
   "metadata": {}
  },
  {
   "source": [
    "（1）存储为JSON"
   ],
   "cell_type": "markdown",
   "metadata": {}
  },
  {
   "cell_type": "code",
   "execution_count": 1,
   "metadata": {},
   "outputs": [],
   "source": [
    "import requests\n",
    "import chardet\n",
    "from bs4 import BeautifulSoup\n",
    "\n",
    "url = 'http://seputu.com/'\n",
    "headers = {\n",
    "        'user-agent': 'Mozilla/5.0 (Windows NT 10.0; Win64; x64) AppleWebKit/537.36 (KHTML, like Gecko) Chrome/87.0.4280.141 Safari/537.36'\n",
    "}\n",
    "r = requests.get(url=url,headers=headers)\n",
    "r.encoding = chardet.detect(r.content)['encoding']"
   ]
  },
  {
   "cell_type": "code",
   "execution_count": 2,
   "metadata": {},
   "outputs": [
    {
     "output_type": "stream",
     "name": "stdout",
     "text": [
      "http://seputu.com/biji1/1.html [2012-5-19 3:3:52] 七星鲁王 第一章 血尸\nhttp://seputu.com/biji1/2.html [2012-5-19 3:5:22] 七星鲁王 第二章 五十年后\nhttp://seputu.com/biji1/3.html [2012-5-19 3:6:15] 七星鲁王 第三章 瓜子庙\nhttp://seputu.com/biji1/4.html [2012-5-19 3:30:57] 七星鲁王 第四章 尸洞\nhttp://seputu.com/biji1/5.html [2012-5-19 4:52:12] 七星鲁王 第五章 水影\nhttp://seputu.com/biji1/6.html [2012-5-19 4:53:14] 七星鲁王 第六章 积尸地\nhttp://seputu.com/biji1/7.html [2012-5-22 14:42:52] 七星鲁王 第七章 一百多个人头\nhttp://seputu.com/biji1/8.html [2012-5-22 14:43:24] 七星鲁王 第八章 山谷\nhttp://seputu.com/biji1/9.html [2012-5-22 14:44:0] 七星鲁王 第九章 古墓\nhttp://seputu.com/biji1/10.html [2012-5-22 14:44:35] 七星鲁王 第十章 影子\nhttp://seputu.com/biji1/11.html [2012-5-22 14:45:8] 七星鲁王 第十一章 七星棺\nhttp://seputu.com/biji1/12.html [2012-5-22 14:45:44] 七星鲁王 第十二章 门\nhttp://seputu.com/biji1/13.html [2012-5-22 14:46:15] 七星鲁王 第十三章 02200059\nhttp://seputu.com/biji1/14.html [2012-5-22 14:47:26] 七星鲁王 第十四章 闷油瓶\nhttp://seputu.com/biji1/15.html [2012-5-22 14:47:55] 七星鲁王 第十五章 屁\nhttp://seputu.com/biji1/16.html [2012-5-22 14:48:32] 七星鲁王 第十六章 小手\nhttp://seputu.com/biji1/17.html [2012-5-22 14:49:5] 七星鲁王 第十七章 洞\nhttp://seputu.com/biji1/18.html [2012-5-22 14:49:59] 七星鲁王 第十八章 大树\nhttp://seputu.com/biji1/19.html [2012-5-22 14:50:30] 七星鲁王 第十九章 女尸\nhttp://seputu.com/biji1/20.html [2012-5-22 14:50:52] 七星鲁王 第二十章 钥匙\nhttp://seputu.com/biji1/21.html [2012-5-22 14:51:25] 七星鲁王 第二十一章 青眼狐尸\nhttp://seputu.com/biji1/22.html [2012-5-22 14:52:4] 七星鲁王 第二十二章 八重宝函\nhttp://seputu.com/biji1/23.html [2012-5-22 14:52:51] 七星鲁王 第二十三章 棺椁\nhttp://seputu.com/biji1/24.html [2012-5-22 14:54:31] 七星鲁王 第二十四章 活尸\nhttp://seputu.com/biji1/25.html [2012-5-22 14:54:54] 七星鲁王 第二十五章 玉俑\nhttp://seputu.com/biji1/26.html [2012-5-22 14:55:47] 七星鲁王 第二十六章 紫玉匣子\nhttp://seputu.com/biji1/27.html [2012-5-22 14:56:22] 七星鲁王 第二十七章 谎言\nhttp://seputu.com/biji1/28.html [2012-5-22 14:56:49] 七星鲁王 第二十八章 火\nhttp://seputu.com/biji1/29.html [2012-5-22 14:57:29] 七星鲁王 第二十九章 紫金匣\nhttp://seputu.com/biji1/30.html [2012-5-22 14:58:3] 怒海潜沙 第一章 蛇眉铜鱼\nhttp://seputu.com/biji1/31.html [2012-5-22 14:58:37] 怒海潜沙 第二章 双层墓墙\nhttp://seputu.com/biji1/32.html [2012-5-22 14:59:18] 怒海潜沙 第三章 大风暴\nhttp://seputu.com/biji1/33.html [2012-5-22 14:59:39] 怒海潜沙 第四章 海鬼\nhttp://seputu.com/biji1/34.html [2012-5-22 15:0:28] 怒海潜沙 第五章 老照片\nhttp://seputu.com/biji1/35.html [2012-5-22 15:0:52] 怒海潜沙 第六章 海南\nhttp://seputu.com/biji1/36.html [2012-5-22 15:1:30] 怒海潜沙 第七章 女人\nhttp://seputu.com/biji1/37.html [2012-5-22 15:2:12] 怒海潜沙 第八章 变天了\nhttp://seputu.com/biji1/38.html [2012-5-22 15:2:38] 怒海潜沙 第九章 鬼船\nhttp://seputu.com/biji1/39.html [2012-5-22 15:3:15] 怒海潜沙 第十章 枯手\nhttp://seputu.com/biji1/40.html [2012-5-22 15:3:50] 怒海潜沙 第十一章 甲板\nhttp://seputu.com/biji1/41.html [2012-5-22 15:5:29] 怒海潜沙 第十二章 三叔的谎言\nhttp://seputu.com/biji1/42.html [2012-5-22 15:5:53] 怒海潜沙 第十三章 海猴子\nhttp://seputu.com/biji1/43.html [2012-5-22 15:6:26] 怒海潜沙 第十四章 永兴岛\nhttp://seputu.com/biji1/44.html [2012-5-22 15:7:12] 怒海潜沙 第十五章 胖子\nhttp://seputu.com/biji1/45.html [2012-5-22 15:7:38] 怒海潜沙 第十六章 开会\nhttp://seputu.com/biji1/46.html [2012-5-22 15:8:27] 怒海潜沙 第十七章 头发\nhttp://seputu.com/biji1/47.html [2012-5-22 15:9:0] 怒海潜沙 第十八章 大量头发\nhttp://seputu.com/biji1/48.html [2012-5-22 15:9:38] 怒海潜沙 第十九章 大瓷罐\nhttp://seputu.com/biji1/49.html [2012-5-22 15:10:3] 怒海潜沙 第二十章 甬道\nhttp://seputu.com/biji1/50.html [2012-5-22 15:10:41] 怒海潜沙 第二十一章 箭\nhttp://seputu.com/biji1/51.html [2012-5-22 15:11:20] 怒海潜沙 第二十二章 第一次解迷\nhttp://seputu.com/biji1/52.html [2012-5-22 15:11:44] 怒海潜沙 第二十三章 继续解迷\nhttp://seputu.com/biji1/53.html [2012-5-22 15:12:23] 怒海潜沙 第二十四章 开棺\nhttp://seputu.com/biji1/54.html [2012-5-22 15:12:56] 怒海潜沙 第二十五章 一个人\nhttp://seputu.com/biji1/55.html [2012-5-22 15:13:19] 怒海潜沙 第二十六章 瓷画\nhttp://seputu.com/biji1/56.html [2012-5-22 15:14:3] 怒海潜沙 第二十七章 无题\nhttp://seputu.com/biji1/57.html [2012-5-22 15:14:43] 怒海潜沙 第二十八章 继续无题\nhttp://seputu.com/biji1/58.html [2012-5-22 15:15:13] 怒海潜沙 第二十九章 石碑\nhttp://seputu.com/biji1/59.html [2012-5-22 15:15:47] 怒海潜沙 第三十章 池底\nhttp://seputu.com/biji1/60.html [2012-5-22 15:16:17] 怒海潜沙 第三十一章 二十年前\nhttp://seputu.com/biji1/61.html [2012-5-22 15:16:53] 怒海潜沙 第三十二章 奇门遁甲\nhttp://seputu.com/biji1/62.html [2012-5-22 15:17:40] 怒海潜沙 第三十三章 生门\nhttp://seputu.com/biji1/63.html [2012-5-22 15:18:27] 怒海潜沙 第三十四章 连环\nhttp://seputu.com/biji1/64.html [2012-5-22 15:18:53] 怒海潜沙 第三十五章 血字\nhttp://seputu.com/biji1/65.html [2012-5-22 15:19:34] 怒海潜沙 第三十六章 脱困\nhttp://seputu.com/biji1/66.html [2012-5-22 15:20:4] 怒海潜沙 第三十七章 盗洞\nhttp://seputu.com/biji1/67.html [2012-5-22 15:20:28] 怒海潜沙 第三十八章 禁婆\nhttp://seputu.com/biji1/68.html [2012-5-22 15:21:5] 怒海潜沙 第三十九章 混战\nhttp://seputu.com/biji1/69.html [2012-5-22 15:21:34] 怒海潜沙 第四十章 墙洞\nhttp://seputu.com/biji1/70.html [2012-5-22 15:22:8] 怒海潜沙 第四十一章 珊瑚树\nhttp://seputu.com/biji1/71.html [2012-5-22 21:6:19] 怒海潜沙 第四十二章 困境\nhttp://seputu.com/biji1/72.html [2012-5-22 21:6:59] 怒海潜沙 第四十三章 炸弹\nhttp://seputu.com/biji1/73.html [2012-5-22 21:7:33] 怒海潜沙 第四十四章 脱皮\nhttp://seputu.com/biji1/74.html [2012-5-22 21:8:23] 怒海潜沙 第四十五章 脱出\nhttp://seputu.com/biji1/75.html [2012-5-22 21:8:56] 怒海潜沙 第四十六章 总结\nhttp://seputu.com/biji2/76.html [2012-5-22 21:10:2] 秦岭神树篇 第一章 老痒出狱\nhttp://seputu.com/biji2/77.html [2012-5-22 21:10:49] 秦岭神树篇 第二章 六角铃铛\nhttp://seputu.com/biji2/78.html [2012-5-22 21:11:23] 秦岭神树篇 第三章 跟踪\nhttp://seputu.com/biji2/79.html [2012-5-22 21:11:57] 秦岭神树篇 第四章 继续跟踪\nhttp://seputu.com/biji2/80.html [2012-5-22 21:12:38] 秦岭神树篇 第五章 偷听\nhttp://seputu.com/biji2/81.html [2012-5-22 21:13:23] 秦岭神树篇 第六章 挖掘\nhttp://seputu.com/biji2/82.html [2012-5-22 21:13:53] 秦岭神树篇 第七章 夹子沟\nhttp://seputu.com/biji2/83.html [2012-5-22 21:14:25] 秦岭神树篇 第八章 猴子\nhttp://seputu.com/biji2/84.html [2012-5-22 21:15:3] 秦岭神树篇 第九章 石人\nhttp://seputu.com/biji2/85.html [2012-5-22 21:15:37] 秦岭神树篇 第十章 哲罗鲑\nhttp://seputu.com/biji2/86.html [2012-5-22 21:16:25] 秦岭神树篇 第十一章 人头\nhttp://seputu.com/biji2/87.html [2012-5-22 21:17:0] 秦岭神树篇 第十二章 地下河\nhttp://seputu.com/biji2/88.html [2012-5-22 21:17:45] 秦岭神树篇 第十三章 黄泉的瀑布\nhttp://seputu.com/biji2/89.html [2012-5-22 21:18:22] 秦岭神树篇 第十四章 深潭\nhttp://seputu.com/biji2/90.html [2012-5-22 21:19:12] 秦岭神树篇 第十五章 休息\nhttp://seputu.com/biji2/91.html [2012-5-22 21:48:30] 秦岭神树篇 第十六章 爬\nhttp://seputu.com/biji2/92.html [2012-5-22 21:49:16] 秦岭神树篇 第十七章 尸阵\nhttp://seputu.com/biji2/93.html [2012-5-22 21:50:4] 秦岭神树篇 第十八章 鬼吹灯\nhttp://seputu.com/biji2/94.html [2012-5-22 21:50:53] 秦岭神树篇 第十九章 骨头的故事\nhttp://seputu.com/biji2/95.html [2012-5-22 21:51:50] 秦岭神树篇 第二十章 火龙阵\nhttp://seputu.com/biji2/96.html [2012-5-22 21:52:53] 秦岭神树篇 第二十一章 秦岭神树\nhttp://seputu.com/biji2/97.html [2012-5-22 21:53:41] 秦岭神树篇 第二十二章 继续爬\nhttp://seputu.com/biji2/98.html [2012-5-22 21:54:24] 秦岭神树篇 第二十三章 裂痕\nhttp://seputu.com/biji2/99.html [2012-5-22 21:55:7] 秦岭神树篇 第二十四章 摔死\nhttp://seputu.com/biji2/100.html [2012-5-22 21:55:55] 秦岭神树篇 第二十五章 祭祀\nhttp://seputu.com/biji2/101.html [2012-5-22 21:56:56] 秦岭神树篇 第二十六章 螭蛊\nhttp://seputu.com/biji2/102.html [2012-5-22 21:58:29] 秦岭神树篇 第二十七章 凌空\nhttp://seputu.com/biji2/103.html [2012-5-22 21:59:35] 秦岭神树篇 第二十八章 麒麟竭\nhttp://seputu.com/biji2/104.html [2012-5-22 22:0:53] 秦岭神树篇 第二十九章 逼近\nhttp://seputu.com/biji2/105.html [2012-5-22 22:1:42] 秦岭神树篇 第三十章 老套路\nhttp://seputu.com/biji2/106.html [2012-5-22 22:2:54] 秦岭神树篇 第三十一章 鬼雾\nhttp://seputu.com/biji2/107.html [2012-5-22 22:3:53] 秦岭神树篇 第三十二章 偷袭\nhttp://seputu.com/biji2/108.html [2012-5-22 22:5:13] 秦岭神树篇 第三十三章 和解\nhttp://seputu.com/biji2/109.html [2012-5-22 22:6:31] 秦岭神树篇 第三十四章 大胆假设，小心求证\nhttp://seputu.com/biji2/110.html [2012-5-22 22:7:23] 秦岭神树篇 第三十五章 失控\nhttp://seputu.com/biji2/111.html [2012-5-22 22:8:59] 秦岭神树篇 第三十六章 坍塌\nhttp://seputu.com/biji2/112.html [2012-5-22 22:10:1] 秦岭神树篇 第三十七章 日记\nhttp://seputu.com/biji2/113.html [2012-5-22 22:10:44] 秦岭神树篇 第三十八章 真像\nhttp://seputu.com/biji2/114.html [2012-5-22 22:12:0] 秦岭神树篇 第三十九章 烛九阴\nhttp://seputu.com/biji2/115.html [2012-5-22 22:12:43] 秦岭神树篇 第四十章 脱出\nhttp://seputu.com/biji2/116.html [2012-5-22 22:13:10] 云顶天宫（上） 第一章 新的消息\nhttp://seputu.com/biji2/117.html [2012-5-22 22:13:53] 云顶天宫（上） 第二章 二００七年第一炮\nhttp://seputu.com/biji2/118.html [2012-5-22 22:14:58] 云顶天宫（上） 第三章 镜儿宫\nhttp://seputu.com/biji2/119.html [2012-5-22 22:15:52] 云顶天宫（上） 第四章 多了一个\nhttp://seputu.com/biji2/120.html [2012-5-22 22:16:49] 云顶天宫（上） 第五章 最初的迷题\nhttp://seputu.com/biji2/121.html [2012-5-22 22:17:42] 云顶天宫（上） 第六章 简单答案\nhttp://seputu.com/biji2/122.html [2012-5-22 22:21:25] 云顶天宫（上） 第七章 潘子\nhttp://seputu.com/biji2/123.html [2012-5-22 22:22:15] 云顶天宫（上） 第八章 新的团伙\nhttp://seputu.com/biji2/124.html [2012-5-22 22:25:59] 云顶天宫（上） 第九章 九龙抬尸\nhttp://seputu.com/biji2/125.html [2012-5-22 22:27:15] 云顶天宫（上） 第十章 营山村\nhttp://seputu.com/biji2/126.html [2012-5-22 22:28:26] 云顶天宫（上） 第十一章 困境\nhttp://seputu.com/biji2/127.html [2012-5-22 22:29:31] 云顶天宫（上） 第十二章 百足龙\nhttp://seputu.com/biji2/128.html [2012-5-22 22:30:37] 云顶天宫（上） 第十三章 缝隙（上）\nhttp://seputu.com/biji2/129.html [2012-5-22 22:31:44] 云顶天宫（上） 第十四章 缝隙（下）\nhttp://seputu.com/biji2/130.html [2012-5-22 22:33:13] 云顶天宫（上） 第十五章 双层壁画\nhttp://seputu.com/biji3/131.html [2012-5-22 22:34:12] 云顶天宫（下） 第一章 五圣雪山\nhttp://seputu.com/biji3/132.html [2012-5-22 22:35:27] 云顶天宫（下） 第二章 自杀行为\nhttp://seputu.com/biji3/133.html [2012-5-22 22:36:45] 云顶天宫（下） 第三章 雪崩\nhttp://seputu.com/biji3/134.html [2012-5-22 22:37:46] 云顶天宫（下） 第四章 昆仑胎\nhttp://seputu.com/biji3/135.html [2012-5-22 22:38:48] 云顶天宫（下） 第五章 胎洞灵宫\nhttp://seputu.com/biji3/136.html [2012-5-22 22:42:49] 云顶天宫（下） 第六章 灵宫大殿\nhttp://seputu.com/biji3/137.html [2012-5-22 22:43:55] 云顶天宫（下） 第七章 博弈\nhttp://seputu.com/biji3/138.html [2012-5-22 22:44:42] 云顶天宫（下） 第八章 骚动\nhttp://seputu.com/biji3/139.html [2012-5-22 22:45:28] 云顶天宫（下） 第九章 墙串子\nhttp://seputu.com/biji3/140.html [2012-5-22 22:46:21] 云顶天宫（下） 第十章 百足龙神\nhttp://seputu.com/biji3/141.html [2012-5-22 22:47:19] 云顶天宫（下） 第十一章 夹层\nhttp://seputu.com/biji3/142.html [2012-5-22 22:48:13] 云顶天宫（下） 第十二章 藏尸阁\nhttp://seputu.com/biji4/185.html [2012-5-22 23:20:9] 蛇沼鬼城（上） 第九章 录像带\nhttp://seputu.com/biji4/186.html [2012-5-22 23:20:50] 蛇沼鬼城（上） 第十章 裘德考\nhttp://seputu.com/biji4/187.html [2012-5-22 23:21:20] 蛇沼鬼城（上） 第十一章 青铜的丹炉\nhttp://seputu.com/biji4/188.html [2012-5-22 23:21:48] 蛇沼鬼城（上） 第十二章 星盘\nhttp://seputu.com/biji4/189.html [2012-5-22 23:29:8] 蛇沼鬼城（上） 第十三章 西沙的真相\nhttp://seputu.com/biji4/190.html [2012-5-22 23:29:42] 蛇沼鬼城（上） 第十四章 深海\nhttp://seputu.com/biji4/191.html [2012-5-22 23:30:20] 蛇沼鬼城（上） 第十五章 浮尸\nhttp://seputu.com/biji4/192.html [2012-5-22 23:31:0] 蛇沼鬼城（上） 第十六章 沉船\nhttp://seputu.com/biji4/193.html [2012-5-22 23:31:29] 蛇沼鬼城（上） 第十七章 哨子棺\nhttp://seputu.com/biji4/194.html [2012-5-22 23:32:13] 蛇沼鬼城（上） 第十八章 尿\nhttp://seputu.com/biji4/195.html [2012-5-22 23:32:47] 蛇沼鬼城（上） 第十九章 机关\nhttp://seputu.com/biji4/196.html [2012-5-22 23:33:39] 蛇沼鬼城（上） 第二十章 虫脑\nhttp://seputu.com/biji5/252.html [2012-5-23 15:21:20] 蛇沼鬼城（下） 第一章 追击\nhttp://seputu.com/biji5/253.html [2012-5-23 15:21:53] 蛇沼鬼城（下） 第二章 消失了\nhttp://seputu.com/biji5/254.html [2012-5-23 15:22:59] 蛇沼鬼城（下） 第三章 信号烟\nhttp://seputu.com/biji5/255.html [2012-5-23 15:23:28] 蛇沼鬼城（下） 第四章 无声的山谷\nhttp://seputu.com/biji5/256.html [2012-5-23 15:24:26] 蛇沼鬼城（下） 第五章 石像\nhttp://seputu.com/biji5/257.html [2012-5-23 15:25:4] 蛇沼鬼城（下） 第六章 石像的朝向\nhttp://seputu.com/biji5/258.html [2012-5-23 15:25:33] 蛇沼鬼城（下） 第七章 破裂\nhttp://seputu.com/biji5/259.html [2012-5-23 15:26:6] 蛇沼鬼城（下） 第八章 第一夜：大雾\nhttp://seputu.com/biji5/260.html [2012-5-23 15:26:37] 蛇沼鬼城（下） 第九章 第一夜：手链\nhttp://seputu.com/biji5/261.html [2012-5-23 15:27:6] 蛇沼鬼城（下） 第十章 第一夜：丛林鬼声\nhttp://seputu.com/biji5/262.html [2012-5-23 15:27:41] 蛇沼鬼城（下） 第十一章 第一夜：逼近\nhttp://seputu.com/biji5/263.html [2012-5-23 15:28:8] 蛇沼鬼城（下） 第十二章 第一夜：偷袭\nhttp://seputu.com/biji6/326.html [2012-5-23 16:34:33] 阴山古楼 第一章 起源\nhttp://seputu.com/biji6/327.html [2012-5-23 16:35:38] 阴山古楼 第二章 古怪的村子\nhttp://seputu.com/biji6/328.html [2012-5-23 16:36:28] 阴山古楼 第三章 火灾\nhttp://seputu.com/biji6/329.html [2012-5-23 16:37:1] 阴山古楼 第四章 变故\nhttp://seputu.com/biji6/330.html [2012-5-23 16:37:37] 阴山古楼 第五章 巡山\nhttp://seputu.com/biji6/331.html [2012-5-23 16:38:12] 阴山古楼 第六章 水牛头沟\nhttp://seputu.com/biji6/332.html [2012-5-23 16:38:46] 阴山古楼 第七章 古坟\nhttp://seputu.com/biji6/333.html [2012-5-23 16:39:21] 阴山古楼 第八章 老头\nhttp://seputu.com/biji6/334.html [2012-5-23 16:40:5] 阴山古楼 第九章 盘马老爹\nhttp://seputu.com/biji6/335.html [2012-5-23 16:40:44] 阴山古楼 第十章 坐下来谈\nhttp://seputu.com/biji6/336.html [2012-5-23 16:41:17] 阴山古楼 第十一章 味道\nhttp://seputu.com/biji6/337.html [2012-5-23 16:41:48] 阴山古楼 第十二章 盘马的回忆\nhttp://seputu.com/biji7/388.html [2012-5-23 17:57:15] 盗墓笔记7 第一章 拍卖\nhttp://seputu.com/biji7/389.html [2012-5-23 17:57:50] 盗墓笔记7 第二章 霍霍霍霍（一）\nhttp://seputu.com/biji7/390.html [2012-5-23 17:58:18] 盗墓笔记7 第二章 霍霍霍霍（二）\nhttp://seputu.com/biji7/391.html [2012-5-23 17:58:42] 盗墓笔记7 第三章 收藏界的盛宴\nhttp://seputu.com/biji7/392.html [2012-5-23 17:59:24] 盗墓笔记7 第四章 回忆（上）\nhttp://seputu.com/biji7/393.html [2012-5-23 17:59:56] 盗墓笔记7 第五章 回忆（下）\nhttp://seputu.com/biji7/394.html [2012-5-23 18:1:11] 盗墓笔记7 第六章 点天灯\nhttp://seputu.com/biji7/395.html [2012-5-23 18:2:10] 盗墓笔记7 第七章 大闹天宫\nhttp://seputu.com/biji7/396.html [2012-5-23 18:2:42] 盗墓笔记7 第八章 霍秀秀\nhttp://seputu.com/biji7/397.html [2012-5-23 18:3:32] 盗墓笔记7 第九章 样式雷（上）\nhttp://seputu.com/biji7/398.html [2012-5-23 18:4:2] 盗墓笔记7 第十章 奇怪的形容\nhttp://seputu.com/biji7/399.html [2012-5-23 18:4:29] 盗墓笔记7 第十一章 考古队、楼和镜子\nhttp://seputu.com/biji7/400.html [2012-5-23 18:4:59] 盗墓笔记7 第十二章 似是故人来\nhttp://seputu.com/biji8/454.html [2012-5-23 18:44:44] 盗墓笔记8 第一章（一）\nhttp://seputu.com/biji8/455.html [2012-5-23 18:45:21] 盗墓笔记8 第一章（二）\nhttp://seputu.com/biji8/456.html [2012-5-23 18:45:52] 盗墓笔记8 第二章（一）\nhttp://seputu.com/biji8/457.html [2012-5-23 18:46:16] 盗墓笔记8 第二章（二）\nhttp://seputu.com/biji8/458.html [2012-5-23 18:47:5] 盗墓笔记8 第三章（一）\nhttp://seputu.com/biji8/459.html [2012-5-23 18:47:32] 盗墓笔记8 第三章（二）\nhttp://seputu.com/biji8/460.html [2012-5-23 18:47:58] 盗墓笔记8 第四章（一）\nhttp://seputu.com/biji8/461.html [2012-5-23 18:48:58] 盗墓笔记8 第四章（二）\nhttp://seputu.com/biji8/462.html [2012-5-23 18:49:36] 盗墓笔记8 第五章（二）\nhttp://seputu.com/biji8/463.html [2012-5-23 18:50:0] 盗墓笔记8 第五章（一）\nhttp://seputu.com/biji8/464.html [2012-5-23 18:50:33] 盗墓笔记8 第六章（一）\nhttp://seputu.com/biji8/465.html [2012-5-23 18:50:58] 盗墓笔记8 第六章（二）\nhttp://seputu.com/biji8/466.html [2012-5-23 18:52:36] 盗墓笔记8 第七章（一）\nhttp://seputu.com/biji8/467.html [2012-5-23 18:53:8] 盗墓笔记8 第七章（二）\nhttp://seputu.com/biji8/468.html [2012-5-23 18:53:31] 盗墓笔记8 第八章（一）\nhttp://seputu.com/biji8/469.html [2012-5-23 18:58:22] 盗墓笔记8 第八章（二）\nhttp://seputu.com/biji8/470.html [2012-5-23 18:59:31] 盗墓笔记8 第九章（一）\nhttp://seputu.com/biji8/471.html [2012-5-23 18:59:51] 盗墓笔记8 第九章（二）\nhttp://seputu.com/biji8/472.html [2012-5-23 19:0:26] 盗墓笔记8 第十章（一）\nhttp://seputu.com/biji8/473.html [2012-5-23 19:0:52] 盗墓笔记8 第十章（二）\nhttp://seputu.com/biji8/474.html [2012-5-23 19:1:19] 盗墓笔记8 第十一章（一）\nhttp://seputu.com/zanghaihua/591.html [2014-10-21 12:50:36] 藏海花 第一章 起源\nhttp://seputu.com/zanghaihua/592.html [2014-10-21 12:50:43] 藏海花 第二章 第一件怪事（上）\nhttp://seputu.com/zanghaihua/593.html [2014-10-21 12:50:50] 藏海花 第三章 第一件怪事（下） \nhttp://seputu.com/zanghaihua/594.html [2014-10-21 12:50:56] 藏海花 第四章 第二件怪事\nhttp://seputu.com/zanghaihua/595.html [2014-10-21 12:51:3] 藏海花 第五章 轮回的开端(1)\nhttp://seputu.com/zanghaihua/596.html [2014-10-21 12:51:9] 藏海花 第五章 轮回的开端(2) - 盗墓笔记\nhttp://seputu.com/zanghaihua/597.html [2014-10-21 12:51:15] 藏海花 第六章 命运的重启(1) - 盗墓笔记\nhttp://seputu.com/zanghaihua/704.html [2014-10-24 16:26:6] 昆仑狼窟 第一章 失踪_盗墓笔记9在线阅读_盗墓笔记全集\nhttp://seputu.com/zanghaihua/705.html [2014-10-24 16:26:37] 昆仑狼窟 第十五章 密谈_盗墓笔记9在线阅读_盗墓笔记全集\nhttp://seputu.com/zanghaihua/706.html [2014-10-24 16:26:45] 昆仑狼窟 第十六章 袭击_盗墓笔记9在线阅读_盗墓笔记全集\nhttp://seputu.com/zanghaihua/777.html [2014-10-24 16:36:20] 无声之城 第一章 祖宅_盗墓笔记9在线阅读_盗墓笔记全集\nhttp://seputu.com/zanghaihua/778.html [2014-10-24 16:36:27] 无声之城 第二章 出逃_盗墓笔记9在线阅读_盗墓笔记全集\nhttp://seputu.com/zanghaihua/779.html [2014-10-24 16:36:36] 无声之城 第五章 张博士_盗墓笔记9在线阅读_盗墓笔记全集\nhttp://seputu.com/zanghaihua/866.html [2014-10-24 16:49:3] 巫山妖棺 第一章 接应驼队_盗墓笔记9在线阅读_盗墓笔记全集\nhttp://seputu.com/zanghaihua/867.html [2014-10-24 16:49:12] 巫山妖棺 第二章 钥匙_盗墓笔记9在线阅读_盗墓笔记全集\nhttp://seputu.com/zanghaihua/868.html [2014-10-24 16:49:20] 巫山妖棺 第三章 暗流涌动_盗墓笔记9在线阅读_盗墓笔记全集\nhttp://seputu.com/zanghaihua/869.html [2014-10-24 16:49:28] 巫山妖棺 第四章 夜探祖宅(上)_盗墓笔记9在线阅读_盗墓笔记全集\nhttp://seputu.com/zanghaihua/870.html [2014-10-24 16:49:37] 巫山妖棺 第五章 夜探祖宅(中)_盗墓笔记9在线阅读_盗墓笔记全集\nhttp://seputu.com/zanghaihua/948.html [2014-10-24 17:1:37] 盗墓笔记9大结局 第二章\nhttp://seputu.com/hesui/553.html [2012-5-23 20:48:33] 南派三叔-南派三叔作品\nhttp://seputu.com/hesui/554.html [2012-5-23 20:54:38] 盗墓笔记 贺岁篇 起源\nhttp://seputu.com/hesui/555.html [2012-5-23 20:55:48] 盗墓笔记 贺岁篇 棺材\nhttp://seputu.com/hesui/556.html [2012-5-23 20:56:23] 盗墓笔记 贺岁篇 往事\nhttp://seputu.com/hesui/557.html [2012-5-23 20:56:51] 盗墓笔记 贺岁篇 移棺\nhttp://seputu.com/hesui/558.html [2012-5-23 20:57:24] 盗墓笔记 贺岁篇 错误\nhttp://seputu.com/hesui/559.html [2012-5-23 20:57:57] 盗墓笔记 贺岁篇 开棺\nhttp://seputu.com/hesui/560.html [2012-5-23 20:58:23] 盗墓笔记 贺岁篇 乾坤\nhttp://seputu.com/hesui/561.html [2012-5-23 20:58:54] 盗墓笔记 贺岁篇 里面\nhttp://seputu.com/hesui/562.html [2012-5-23 20:59:18] 盗墓笔记 贺岁篇 黑水\nhttp://seputu.com/hesui/563.html [2012-5-23 20:59:43] 盗墓笔记 贺岁篇 深渊\nhttp://seputu.com/hesui/564.html [2012-5-23 21:0:6] 盗墓笔记 贺岁篇 螺蛳\nhttp://seputu.com/hesui/565.html [2012-5-23 21:0:33] 盗墓笔记 贺岁篇 商量\nhttp://seputu.com/hesui/566.html [2012-5-23 21:1:10] 盗墓笔记 贺岁篇 小溪\nhttp://seputu.com/hesui/567.html [2012-5-23 21:1:37] 盗墓笔记 贺岁篇 影子\nhttp://seputu.com/hesui/568.html [2012-5-23 21:2:7] 盗墓笔记 贺岁篇 杀杀\nhttp://seputu.com/hesui/569.html [2012-5-23 21:2:40] 盗墓笔记 贺岁篇 窥探\nhttp://seputu.com/hesui/570.html [2012-5-23 21:4:3] 盗墓笔记 贺岁篇 二叔\nhttp://seputu.com/hesui/571.html [2012-5-23 21:4:37] 盗墓笔记 贺岁篇 阿琴\nhttp://seputu.com/hesui/572.html [2012-5-23 21:6:11] 盗墓笔记 贺岁篇 传说\nhttp://seputu.com/hesui/573.html [2012-5-23 21:6:50] 盗墓笔记 贺岁篇 石灰\nhttp://seputu.com/hesui/574.html [2012-5-23 21:7:29] 盗墓笔记 贺岁篇 族谱\nhttp://seputu.com/hesui/575.html [2012-5-23 21:8:18] 盗墓笔记 贺岁篇 安氏\nhttp://seputu.com/hesui/576.html [2012-5-23 21:9:35] 盗墓笔记 贺岁篇 大雨\nhttp://seputu.com/hesui/577.html [2012-5-23 21:10:15] 盗墓笔记 贺岁篇 物体\nhttp://seputu.com/hesui/578.html [2012-5-23 21:11:56] 盗墓笔记 贺岁篇 死亡\nhttp://seputu.com/hesui/579.html [2012-5-23 21:12:54] 盗墓笔记 贺岁篇 目的\nhttp://seputu.com/hesui/580.html [2012-5-23 21:13:46] 盗墓笔记 贺岁篇 设局\nhttp://seputu.com/hesui/581.html [2012-5-23 21:14:15] 盗墓笔记 贺岁篇 猎物\nhttp://seputu.com/hesui/582.html [2012-5-23 21:14:42] 盗墓笔记 贺岁篇 真相\nhttp://seputu.com/hesui/583.html [2012-5-23 21:15:9] 盗墓笔记 贺岁篇 秘密\nhttp://seputu.com/hesui/584.html [2012-5-23 21:15:35] 盗墓笔记 贺岁篇 尾声\nhttp://seputu.com/hesui/585.html [2012-5-23 21:16:9] 盗墓笔记 贺岁篇 后记\nhttp://seputu.com/hesui/586.html [2013-8-31 18:49:42] 《盗墓笔记》电视剧启动 吴秀波陈坤疑将参演\nhttp://seputu.com/hesui/587.html [2013-8-31 18:51:28] 盗墓笔记电视剧来了！胡歌演男主角\nhttp://seputu.com/hesui/588.html [2013-8-31 18:54:42] 【最炫盗墓风】盗墓笔记X最炫民族风X爱杀宝贝ED.\nhttp://seputu.com/hesui/589.html [2013-8-31 19:4:40] 《盗墓笔记》带你探寻云顶天宫\nhttp://seputu.com/hesui/590.html [2013-8-31 19:10:18] 《盗墓笔记》电影版人物表\nhttp://seputu.com/hesui/990.html [2015-7-12 9:59:22] 《盗墓笔记》中真实存在的27件奇葩物\nhttp://seputu.com/hesui/991.html [2015-7-12 12:34:54] 古代人的“盗墓笔记”\nhttp://seputu.com/hesui/992.html [2015-7-25 16:41:39] 《盗墓笔记》烂成渣http://seputu.com/秦岭神树\nhttp://seputu.com/hesui/993.html [2015-12-31 18:26:5] 盗墓笔记（另类）.mp3\nhttp://seputu.com/daomubijichongqi/994.html [2017-12-12 17:33:49] 盗墓笔记重启  第一章 南京储物柜\nhttp://seputu.com/daomubijichongqi/996.html [2017-12-12 19:12:59] 盗墓笔记重启 ·第二章 废弃的气象站\nhttp://seputu.com/daomubijichongqi/997.html [2017-12-12 19:14:39] 盗墓笔记重启 第三章 三叔的尸体\nhttp://seputu.com/daomubijichongqi/998.html [2017-12-12 19:16:8] 盗墓笔记重启  第四章 雷声\nhttp://seputu.com/daomubijichongqi/999.html [2017-12-14 15:53:37] 盗墓笔记重启 第五章 杨大广\nhttp://seputu.com/daomubijichongqi/1000.html [2017-12-14 15:57:8] 盗墓笔记重启 第六章 听雷者\nhttp://seputu.com/daomubijichongqi/1001.html [2018-5-6 14:23:57]  盗墓笔记全集(周建龙版） （全集 共314集）\n"
     ]
    }
   ],
   "source": [
    "soup = BeautifulSoup(r.text,'lxml')\n",
    "for mulu in soup.find_all(class_=\"mulu\"):\n",
    "    h2 = mulu.find('h2')\n",
    "    if h2 != None:\n",
    "        h2_title = h2.string   # 获取标题\n",
    "        # 获取章节链接和内容\n",
    "        for a in mulu.find(class_=\"box\").find_all('a'):\n",
    "            href = a.get('href')\n",
    "            box_title = a.get('title')\n",
    "            print(href,box_title)"
   ]
  },
  {
   "source": [
    "Python对JSON文件的操作分为编码和解码，通过JSON模块来实现。编码过程是把Python对象转换成JSON对象的一个过程，常用的两个函数是dumps和dump函数。两个函数的唯一区别就是dump把Python对象转换成JSON对象，并将JSON对象通过fp文件流写入文件中，而dumps则是生成了一个字符串。下面看一下dumps和dump的函数原型：\n",
    "![](./图片/4.png)\n",
    "常用参数分析：\n",
    "* Skipkeys：默认值是False。如果dict的keys内的数据不是python的基本类型（str、unicode、int、long、float、bool、None），设置为False时，就会报TypeError错误。此时设置成True，则会跳过这类key。\n",
    "* ensure_ascii：默认值True。如果dict内含有非ASCII的字符，则会以类似“\\uXXXX”的格式显示数据，设置成False后，就能正常显示。\n",
    "* indent：应该是一个非负的整型，如果是0，或者为空，则一行显示数据，否则会换行且按照indent的数量显示前面的空白，将JSON内容进行格式化显示。\n",
    "* separators：分隔符，实际上是（item_separator, dict_separator）的一个元组，默认的就是（', ', ':'），这表示dictionary内keys之间用“, ”隔开，而key和value之间用“:”隔开。\n",
    "* encoding：默认是UTF-8。设置JSON数据的编码方式，在处理中文时一定要注意。* sort_keys：将数据根据keys的值进行排序。\n",
    "\n"
   ],
   "cell_type": "markdown",
   "metadata": {}
  },
  {
   "cell_type": "code",
   "execution_count": 5,
   "metadata": {},
   "outputs": [
    {
     "output_type": "stream",
     "name": "stdout",
     "text": [
      "[{\"username\": \"蜗牛\", \"age\": 24}, [2, 3], 1]\n"
     ]
    }
   ],
   "source": [
    "import json\n",
    "str = [{\"username\":\"蜗牛\",\"age\":24},(2,3),1]\n",
    "json_str = json.dumps(str,ensure_ascii=False)\n",
    "print(json_str)\n",
    "with open('woniu.txt','w') as fp:\n",
    "    json.dump(str,fp=fp,ensure_ascii=False)"
   ]
  },
  {
   "source": [
    "解码过程是把json对象转换成python对象的一个过程，常用的两个函数是load和loads函数，区别跟dump和dumps是一样的。函数原型如下：\n",
    "\n",
    "loads(s, encoding=None, cls=None, object_hook=None, parse_float=None,\n",
    "                parse_int=None, parse_constant=None, object_pairs_hook=None, **kw)   \n",
    "\n",
    "                \n",
    "load(fp, encoding=None, cls=None, object_hook=None, parse_float=None,\n",
    "                parse_int=None, parse_constant=None, object_pairs_hook=None, **kw) \n",
    "                \n",
    "                  \n",
    "常用参数分析：\n",
    "\n",
    "* encoding：指定编码格式。\n",
    "\n",
    "* parse_float：如果指定，将把每一个JSON字符串按照float解码调用。默认情况下，这相当于float（num_str）。\n",
    "\n",
    "* parse_int：如果指定，将把每一个JSON字符串按照int解码调用。默认情况下，这相当于int（num_str）。"
   ],
   "cell_type": "markdown",
   "metadata": {}
  },
  {
   "cell_type": "code",
   "execution_count": 6,
   "metadata": {},
   "outputs": [
    {
     "output_type": "stream",
     "name": "stdout",
     "text": [
      "[{'username': '蜗牛', 'age': 24}, [2, 3], 1]\n[{'username': '蜗牛', 'age': 24}, [2, 3], 1]\n"
     ]
    }
   ],
   "source": [
    "new_str = json.loads(json_str)\n",
    "print(new_str)\n",
    "with open('woniu.txt','r') as fp:\n",
    "    print(json.load(fp))"
   ]
  },
  {
   "source": [
    "通过上面的例子可以看到，Python的一些基本类型通过编码之后，tuple类型就转成了list类型了，再将其转回为python对象时，list类型也并没有转回成tuple类型，而且编码格式也发生了变化，变成了Unicode编码。   \n",
    "python -> JSON\n",
    "![](./图片/5.jpg)\n",
    "JSON -> python\n",
    "![](./图片/6.jpg)\n"
   ],
   "cell_type": "markdown",
   "metadata": {}
  },
  {
   "cell_type": "code",
   "execution_count": 13,
   "metadata": {},
   "outputs": [],
   "source": [
    "# 将上面提取到的标题、章节和链接进行JSON存储\n",
    "# coding:utf-8\n",
    "import json\n",
    "import chardet\n",
    "from bs4 import BeautifulSoup\n",
    "import requests\n",
    "user_agent = 'Mozilla/4.0 (compatible; MSIE 5.5; Windows NT)'\n",
    "headers={'User-Agent':user_agent}\n",
    "r = requests.get('http://seputu.com/',headers=headers)\n",
    "r.encoding = chardet.detect(r.content)['encoding']\n",
    "soup = BeautifulSoup(r.text,'html.parser',from_encoding='utf-8')# html.parser\n",
    "content=[]\n",
    "for mulu in soup.find_all(class_=\"mulu\"):\n",
    "    h2 = mulu.find('h2')\n",
    "    if h2!=None:\n",
    "        h2_title = h2.string# 获取标题\n",
    "        list=[]\n",
    "        for a in mulu.find(class_='box').find_all('a'):# 获取所有的a标记中url和章节名称\n",
    "            href = a.get('href')\n",
    "            box_title = a.get('title')\n",
    "            list.append({'href':href,'box_title':box_title})\n",
    "        content.append({'title':h2_title,'content':list})\n",
    "with open('盗墓笔记.json','w') as fp:\n",
    "    json.dump(content,fp=fp,indent=4)"
   ]
  },
  {
   "source": [
    "(2)存储为CSV"
   ],
   "cell_type": "markdown",
   "metadata": {}
  },
  {
   "cell_type": "code",
   "execution_count": 17,
   "metadata": {},
   "outputs": [],
   "source": [
    "# Python使用csv库来读写CSV文件\n",
    "import csv\n",
    "headers = ['ID','UserName','Password','Age','Country']\n",
    "rows = [(1001,\"qiye\",\"qiye_pass\",24,\"China\"),\n",
    "    (1002,\"Mary\",\"Mary_pass\",20,\"USA\"),\n",
    "    (1003,\"Jack\",\"Jack_pass\",20,\"USA\"),\n",
    "]\n",
    "\n",
    "# 加上newline=''可以防止每行之间有空行     \n",
    "with open('woniu.csv','w',newline='') as f:\n",
    "    f_csv = csv.writer(f)\n",
    "    f_csv.writerow(headers)\n",
    "    f_csv.writerows(rows)"
   ]
  },
  {
   "cell_type": "code",
   "execution_count": 15,
   "metadata": {},
   "outputs": [],
   "source": [
    "# rows列表中的数据元组，也可以是字典数据\n",
    "import csv\n",
    "headers = ['ID','UserName','Password','Age','Country']\n",
    "rows = [{'ID':1001,'UserName':\"qiye\",'Password':\"qiye_pass\",'Age':24,'Country':\" China\"},\n",
    "     {'ID':1002,'UserName':\"Mary\",'Password':\"Mary_pass\",'Age':20,'Country':\"USA\"},\n",
    "     {'ID':1003,'UserName':\"Jack\",'Password':\"Jack_pass\",'Age':20,'Country':\"USA\"},\n",
    "]\n",
    "with open('woniu1.csv','w') as f:\n",
    "    f_csv = csv.DictWriter(f,headers)\n",
    "    f_csv.writeheader()\n",
    "    f_csv.writerows(rows)"
   ]
  },
  {
   "cell_type": "code",
   "execution_count": 18,
   "metadata": {},
   "outputs": [
    {
     "output_type": "stream",
     "name": "stdout",
     "text": [
      "['ID', 'UserName', 'Password', 'Age', 'Country']\n['1001', 'qiye', 'qiye_pass', '24', 'China']\n['1002', 'Mary', 'Mary_pass', '20', 'USA']\n['1003', 'Jack', 'Jack_pass', '20', 'USA']\n"
     ]
    }
   ],
   "source": [
    "# 读取CSV\n",
    "import csv\n",
    "with open('woniu.csv') as f:\n",
    "    f_csv = csv.reader(f)\n",
    "    headers = next(f_csv)\n",
    "    print(headers)\n",
    "    for row in f_csv:\n",
    "        print(row)"
   ]
  },
  {
   "cell_type": "code",
   "execution_count": 19,
   "metadata": {},
   "outputs": [
    {
     "output_type": "stream",
     "name": "stdout",
     "text": [
      "qiye qiye_pass\nRow(ID='1001', UserName='qiye', Password='qiye_pass', Age='24', Country='China')\nMary Mary_pass\nRow(ID='1002', UserName='Mary', Password='Mary_pass', Age='20', Country='USA')\nJack Jack_pass\nRow(ID='1003', UserName='Jack', Password='Jack_pass', Age='20', Country='USA')\n"
     ]
    }
   ],
   "source": [
    "# 在上面的代码中，row会是一个列表。因此，为了访问某个字段，你需要使用索引，如row[0]访问ID，row[3]访问Age。由于这种索引访问通常会引起混淆，因此可以考虑使用命名元组\n",
    "from collections import namedtuple\n",
    "import csv\n",
    "with open('woniu.csv') as f:\n",
    "    f_csv = csv.reader(f)\n",
    "    headings = next(f_csv)\n",
    "    Row = namedtuple('Row', headings)\n",
    "    for r in f_csv:\n",
    "        row = Row(*r)\n",
    "        print(row.UserName,row.Password)\n",
    "        print(row)"
   ]
  },
  {
   "cell_type": "code",
   "execution_count": 21,
   "metadata": {},
   "outputs": [
    {
     "output_type": "stream",
     "name": "stdout",
     "text": [
      "qiye qiye_pass\nMary Mary_pass\nJack Jack_pass\n"
     ]
    }
   ],
   "source": [
    "# 除了使用命名分组之外，另外一个解决办法就是读取到一个字典序列中\n",
    "import csv\n",
    "with open('woniu.csv') as f:\n",
    "    f_csv = csv.DictReader(f)\n",
    "    for row in f_csv:\n",
    "        # row['UserName']和row.get('UserName')等效\n",
    "        print(row['UserName'],row.get('Password'))"
   ]
  },
  {
   "cell_type": "code",
   "execution_count": 35,
   "metadata": {},
   "outputs": [],
   "source": [
    "# encoding:utf-8\n",
    "from lxml import etree\n",
    "import requests\n",
    "import re\n",
    "\n",
    "user_agent = 'Mozilla/4.0 (compatible; MSIE 5.5; Windows NT)'\n",
    "headers={'User-Agent':user_agent}\n",
    "r = requests.get('http://seputu.com/',headers=headers)\n",
    "# 使用lxml解析网页\n",
    "html = etree.HTML(r.text)\n",
    "# 先找到所有的div class=mulu标记\n",
    "div_mulus = html.xpath('.// *[@class=\"mulu\"]')\n",
    "# 写分离日期和章节名称的正则表达式\n",
    "pattern = re.compile(r'\\s*\\[(.*)\\]\\s+(.*)')\n",
    "rows=[]\n",
    "for div_mulu in div_mulus:\n",
    "    # 找到所有的div_h2标记\n",
    "    div_h2 = div_mulu.xpath('./div[@class=\"mulu-title\"]/center/h2/text()')\n",
    "    if len(div_h2)> 0:\n",
    "        # 获取标题\n",
    "        h2_title = div_h2[0]\n",
    "        # 获取a标签\n",
    "        a_s = div_mulu.xpath('./div[@class=\"box\"]/ul/li/a')\n",
    "        for a in a_s:\n",
    "            # 找到href属性\n",
    "            href=a.xpath('./@href')[0]\n",
    "            # 找到title属性\n",
    "            box_title = a.xpath('./@title')[0]\n",
    "            # 分离日期和章节名称\n",
    "            match = pattern.search(box_title)\n",
    "            if match!=None:\n",
    "                # 得到日期\n",
    "                date =match.group(1)\n",
    "                # 得到章节名称\n",
    "                real_title= match.group(2)\n",
    "                content=(h2_title,real_title,href,date)\n",
    "                rows.append(content)\n",
    "headers = ['title','real_title','href','date']\n",
    "with open('盗墓笔记.csv','w') as f:\n",
    "    f_csv = csv.writer(f,)\n",
    "    # 写CSV头部\n",
    "    f_csv.writerow(headers)\n",
    "    # 写CSV行数据\n",
    "    f_csv.writerows(rows)"
   ]
  },
  {
   "source": [
    "### 2.多媒体文件抽取\n",
    "存储媒体文件主要有两种方式：只获取文件的URL链接，或者直接将媒体文件下载到本地。\n",
    "urllib模块下的urlretrieve()方法直接将远程数据下载到本地，函数原型如下：\n",
    "\n",
    "     urlretrieve(url, filename=None, reporthook=None, data=None)\n",
    "\n",
    "参数说明：\n",
    "\n",
    "* 参数filename指定了存储的本地路径（如果参数未指定，urllib会生成一个临时文件保存数据。）\n",
    "\n",
    "* 参数reporthook是一个回调函数。当连接上服务器以及相应的数据块传输完毕时会触发该回调函数，我们可以利用这个回调函数来显示当前的下载进度。\n",
    "\n",
    "* 参数data指post到服务器的数据，该方法返回一个包含两个元素的（filename，headers）元组，filename表示保存到本地的路径，header表示服务器的响应头。\n"
   ],
   "cell_type": "markdown",
   "metadata": {}
  },
  {
   "cell_type": "code",
   "execution_count": 61,
   "metadata": {},
   "outputs": [
    {
     "output_type": "stream",
     "name": "stdout",
     "text": [
      "./下载图片/img0.jpg\n",
      "https://img.ivsky.com/img/tupian/li/202007/08/caihong-008.jpg <class 'str'>\n",
      "当前下载进度：0\n",
      "当前下载进度：11\n",
      "当前下载进度：22\n",
      "当前下载进度：34\n",
      "当前下载进度：45\n",
      "当前下载进度：57\n",
      "当前下载进度：68\n",
      "当前下载进度：79\n",
      "当前下载进度：91\n",
      "当前下载进度：100\n",
      "./下载图片/img1.jpg\n",
      "https://img.ivsky.com/img/tupian/li/202007/07/ramsau-017.jpg <class 'str'>\n",
      "当前下载进度：0\n",
      "当前下载进度：38\n",
      "当前下载进度：77\n",
      "当前下载进度：100\n",
      "./下载图片/img2.jpg\n",
      "https://img.ivsky.com/img/tupian/li/202007/03/bingjing-008.jpg <class 'str'>\n",
      "当前下载进度：0\n",
      "当前下载进度：49\n",
      "当前下载进度：99\n",
      "当前下载进度：100\n",
      "./下载图片/img3.jpg\n",
      "https://img.ivsky.com/img/tupian/li/202006/30/jidi_bingxue-003.jpg <class 'str'>\n",
      "当前下载进度：0\n",
      "当前下载进度：53\n",
      "当前下载进度：100\n",
      "./下载图片/img4.jpg\n",
      "https://img.ivsky.com/img/tupian/li/202006/29/fense_tiankong-007.jpg <class 'str'>\n",
      "当前下载进度：0\n",
      "当前下载进度：100\n",
      "./下载图片/img5.jpg\n",
      "https://img.ivsky.com/img/tupian/li/202006/29/shanfeng-003.jpg <class 'str'>\n",
      "当前下载进度：0\n",
      "当前下载进度：46\n",
      "当前下载进度：93\n",
      "当前下载进度：100\n",
      "./下载图片/img6.jpg\n",
      "https://img.ivsky.com/img/tupian/li/202006/22/chayuan-003.jpg <class 'str'>\n",
      "当前下载进度：0\n",
      "当前下载进度：41\n",
      "当前下载进度：82\n",
      "当前下载进度：100\n",
      "./下载图片/img7.jpg\n",
      "https://img.ivsky.com/img/tupian/li/202006/23/titian-011.jpg <class 'str'>\n",
      "当前下载进度：0\n",
      "当前下载进度：32\n",
      "当前下载进度：65\n",
      "当前下载进度：98\n",
      "当前下载进度：100\n",
      "./下载图片/img8.jpg\n",
      "https://img.ivsky.com/img/tupian/li/202006/14/caodian-002.jpg <class 'str'>\n",
      "当前下载进度：0\n",
      "当前下载进度：34\n",
      "当前下载进度：69\n",
      "当前下载进度：100\n",
      "./下载图片/img9.jpg\n",
      "https://img.ivsky.com/img/tupian/li/202006/09/xiliu_pubu-017.jpg <class 'str'>\n",
      "当前下载进度：0\n",
      "当前下载进度：7\n",
      "当前下载进度：15\n",
      "当前下载进度：23\n",
      "当前下载进度：31\n",
      "当前下载进度：38\n",
      "当前下载进度：46\n",
      "当前下载进度：54\n",
      "当前下载进度：62\n",
      "当前下载进度：70\n",
      "当前下载进度：77\n",
      "当前下载进度：85\n",
      "当前下载进度：93\n",
      "当前下载进度：100\n",
      "./下载图片/img10.jpg\n",
      "https://img.ivsky.com/img/tupian/li/202006/08/titian-009.jpg <class 'str'>\n",
      "当前下载进度：0\n",
      "当前下载进度：36\n",
      "当前下载进度：72\n",
      "当前下载进度：100\n",
      "./下载图片/img11.jpg\n",
      "https://img.ivsky.com/img/tupian/li/202006/01/shandian-006.jpg <class 'str'>\n",
      "当前下载进度：0\n",
      "当前下载进度：88\n",
      "当前下载进度：100\n",
      "./下载图片/img12.jpg\n",
      "https://img.ivsky.com/img/tupian/li/202006/01/lantian_baiyun-007.jpg <class 'str'>\n",
      "当前下载进度：0\n",
      "当前下载进度：64\n",
      "当前下载进度：100\n",
      "./下载图片/img13.jpg\n",
      "https://img.ivsky.com/img/tupian/li/202006/07/jixue_shanmai-004.jpg <class 'str'>\n",
      "当前下载进度：0\n",
      "当前下载进度：8\n",
      "当前下载进度：16\n",
      "当前下载进度：25\n",
      "当前下载进度：33\n",
      "当前下载进度：42\n",
      "当前下载进度：50\n",
      "当前下载进度：59\n",
      "当前下载进度：67\n",
      "当前下载进度：76\n",
      "当前下载进度：84\n",
      "当前下载进度：93\n",
      "当前下载进度：100\n",
      "./下载图片/img14.jpg\n",
      "https://img.ivsky.com/img/tupian/li/202005/31/xingkong-010.jpg <class 'str'>\n",
      "当前下载进度：0\n",
      "当前下载进度：45\n",
      "当前下载进度：90\n",
      "当前下载进度：100\n",
      "./下载图片/img15.jpg\n",
      "https://img.ivsky.com/img/tupian/li/202005/30/wuqi_senlin-001.jpg <class 'str'>\n",
      "当前下载进度：0\n",
      "当前下载进度：7\n",
      "当前下载进度：15\n",
      "当前下载进度：23\n",
      "当前下载进度：30\n",
      "当前下载进度：38\n",
      "当前下载进度：46\n",
      "当前下载进度：54\n",
      "当前下载进度：61\n",
      "当前下载进度：69\n",
      "当前下载进度：77\n",
      "当前下载进度：85\n",
      "当前下载进度：92\n",
      "当前下载进度：100\n",
      "./下载图片/img16.jpg\n",
      "https://img.ivsky.com/img/tupian/li/202005/29/wu-002.jpg <class 'str'>\n",
      "当前下载进度：0\n",
      "当前下载进度：85\n",
      "当前下载进度：100\n",
      "./下载图片/img17.jpg\n",
      "https://img.ivsky.com/img/tupian/li/202005/29/richu_riluo-009.jpg <class 'str'>\n",
      "当前下载进度：0\n",
      "当前下载进度：10\n",
      "当前下载进度：21\n",
      "当前下载进度：32\n",
      "当前下载进度：43\n",
      "当前下载进度：54\n",
      "当前下载进度：65\n",
      "当前下载进度：76\n",
      "当前下载进度：86\n",
      "当前下载进度：97\n",
      "当前下载进度：100\n"
     ]
    }
   ],
   "source": [
    "import urllib\n",
    "from lxml import etree\n",
    "import requests\n",
    "from urllib.request import urlretrieve\n",
    "def Schedule(blocknum,blocksize,totalsize):\n",
    "    '''''\n",
    "    blocknum:已经下载的数据块\n",
    "    blocksize:数据块的大小\n",
    "    totalsize:远程文件的大小\n",
    "    '''\n",
    "    per = 100.0 * blocknum * blocksize / totalsize\n",
    "    if per > 100 :\n",
    "            per = 100\n",
    "    print('当前下载进度：%d'%per)\n",
    "user_agent = 'Mozilla/4.0 (compatible; MSIE 5.5; Windows NT)'\n",
    "headers={'User-Agent':user_agent}\n",
    "r = requests.get('http://www.ivsky.com/tupian/ziranfengguang/',headers=headers)\n",
    "# 使用lxml解析网页\n",
    "html = etree.HTML(r.text)\n",
    "img_urls = html.xpath('.// img/@src')# 先找到所有的img\n",
    "i=0\n",
    "for img_url in img_urls:\n",
    "    img_url = 'https:'+img_url\n",
    "    filename ='./下载图片/img%d.jpg'%i\n",
    "    # print(filename)\n",
    "    # print(img_url,type(img_url))\n",
    "    urllib.request.urlretrieve(url = img_url,filename=filename,reporthook=Schedule)\n",
    "    i+=1"
   ]
  },
  {
   "source": [
    "### 3.Email提醒\n",
    "Email主要起到提醒作用，当爬虫在运行过程中遇到异常或者服务器遇到问题，可以通过Email及时向自己报告。\n",
    "\n",
    "发送邮件的协议是STMP，Python内置对SMTP的支持，可以发送纯文本邮件、HTML邮件以及带附件的邮件。Python对SMTP支持有smtplib和email两个模块，email负责构造邮件，smtplib负责发送邮件。"
   ],
   "cell_type": "markdown",
   "metadata": {}
  },
  {
   "cell_type": "code",
   "execution_count": 62,
   "metadata": {},
   "outputs": [],
   "source": [
    "# 构造一个纯文本邮件\n",
    "# 构造MIMEText对象时需要3个参数：\n",
    "## 1.邮件正文\n",
    "## 2.MIME的subtype，传入“plain”表示纯文本，最终的MIME就是“text/plain”\n",
    "## 3.设置编码格式，UTF-8编码保证多语言兼容性\n",
    "from email.mime.text import MIMEText\n",
    "msg = MIMEText('Python爬虫运行异常，异常信息为遇到HTTP 403','plain','utf-8')"
   ]
  },
  {
   "cell_type": "code",
   "execution_count": 64,
   "metadata": {},
   "outputs": [],
   "source": [
    "from email.header import Header\n",
    "from email.mime.text import MIMEText\n",
    "from email.utils import parseaddr,formataddr\n",
    "\n",
    "import smtplib\n",
    "\n",
    "def _format_addr(s):\n",
    "    name,addr = parseaddr(s)\n",
    "    return formataddr((Header(name,'utf-8').encode(),addr))\n",
    "    # 发件人地址\n",
    "    from_addr = ''\n",
    "    # 邮箱密码\n",
    "    password = 'pass'\n",
    "    # 收件人地址\n",
    "    to_addr = ''\n",
    "    # 163网易邮箱服务器地址\n",
    "    smtp_server = 'smtp.163.com'\n",
    "    # 设置邮箱信息\n",
    "    msg = MIMEText('Python爬虫运行异常，异常信息为遇到HTTP 403','plain','utf-8')\n",
    "    msg['From'] = _format_addr('一号爬虫<%s>'%from_addr)\n",
    "    msg['To'] = _format_addr('管理员 <%s>' % to_addr)\n",
    "    msg['Subject'] = Header('一号爬虫运行状态', 'utf-8').encode()\n",
    "    # 发送邮件\n",
    "    server = smtplib.SMTP(smtp_server, 25)\n",
    "    server.login(from_addr, password)\n",
    "    server.sendmail(from_addr, [to_addr], msg.as_string())\n",
    "    server.quit()"
   ]
  },
  {
   "cell_type": "code",
   "execution_count": 65,
   "metadata": {},
   "outputs": [],
   "source": [
    "# 有时候我们发送的可能不是纯文本，需要发送HTML邮件，将异常网页信息发送回去。在构造MIMEText对象时，把HTML字符串传进去，再把第二个参数由“plain”变为“html”就可以了\n",
    "\n",
    "msg = MIMEText('<html><body><h1>Hello</h1>' +\n",
    "'<p>异常网页<a href=\"http://www.cnblogs.com\">cnblogs</a>...</p>' +\n",
    "'</body></html>', 'html', 'utf-8')"
   ]
  }
 ]
}