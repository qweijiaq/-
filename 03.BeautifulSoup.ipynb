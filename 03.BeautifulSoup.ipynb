{
 "metadata": {
  "language_info": {
   "codemirror_mode": {
    "name": "ipython",
    "version": 3
   },
   "file_extension": ".py",
   "mimetype": "text/x-python",
   "name": "python",
   "nbconvert_exporter": "python",
   "pygments_lexer": "ipython3",
   "version": "3.8.5-final"
  },
  "orig_nbformat": 2,
  "kernelspec": {
   "name": "python3",
   "display_name": "Python 3",
   "language": "python"
  }
 },
 "nbformat": 4,
 "nbformat_minor": 2,
 "cells": [
  {
   "source": [
    "1.解析器"
   ],
   "cell_type": "markdown",
   "metadata": {}
  },
  {
   "source": [
    "![](./图片/1.png)"
   ],
   "cell_type": "markdown",
   "metadata": {}
  },
  {
   "cell_type": "code",
   "execution_count": 11,
   "metadata": {},
   "outputs": [],
   "source": [
    "import requests\n",
    "from bs4 import BeautifulSoup\n",
    "r = requests.get('http://www.baidu.com')\n",
    "r.encoding = 'utf-8'\n",
    "html_str = r.text\n",
    "# 创建BeautifulSoup对象的两种方式\n",
    "# 一种是直接通过字符串创建：\n",
    "soup = BeautifulSoup(html_str,'lxml')\n",
    "# 另一种通过文件来创建：\n",
    "# soup = BeautifulSoup(open('index.html'))"
   ]
  },
  {
   "cell_type": "code",
   "execution_count": 12,
   "metadata": {},
   "outputs": [
    {
     "output_type": "stream",
     "name": "stdout",
     "text": [
      "<!DOCTYPE html>\n<!--STATUS OK-->\n<html>\n <head>\n  <meta content=\"text/html;charset=utf-8\" http-equiv=\"content-type\"/>\n  <meta content=\"IE=Edge\" http-equiv=\"X-UA-Compatible\"/>\n  <meta content=\"always\" name=\"referrer\"/>\n  <link href=\"http://s1.bdstatic.com/r/www/cache/bdorz/baidu.min.css\" rel=\"stylesheet\" type=\"text/css\"/>\n  <title>\n   百度一下，你就知道\n  </title>\n </head>\n <body link=\"#0000cc\">\n  <div id=\"wrapper\">\n   <div id=\"head\">\n    <div class=\"head_wrapper\">\n     <div class=\"s_form\">\n      <div class=\"s_form_wrapper\">\n       <div id=\"lg\">\n        <img height=\"129\" hidefocus=\"true\" src=\"//www.baidu.com/img/bd_logo1.png\" width=\"270\"/>\n       </div>\n       <form action=\"//www.baidu.com/s\" class=\"fm\" id=\"form\" name=\"f\">\n        <input name=\"bdorz_come\" type=\"hidden\" value=\"1\"/>\n        <input name=\"ie\" type=\"hidden\" value=\"utf-8\"/>\n        <input name=\"f\" type=\"hidden\" value=\"8\"/>\n        <input name=\"rsv_bp\" type=\"hidden\" value=\"1\"/>\n        <input name=\"rsv_idx\" type=\"hidden\" value=\"1\"/>\n        <input name=\"tn\" type=\"hidden\" value=\"baidu\"/>\n        <span class=\"bg s_ipt_wr\">\n         <input autocomplete=\"off\" autofocus=\"\" class=\"s_ipt\" id=\"kw\" maxlength=\"255\" name=\"wd\" value=\"\"/>\n        </span>\n        <span class=\"bg s_btn_wr\">\n         <input class=\"bg s_btn\" id=\"su\" type=\"submit\" value=\"百度一下\"/>\n        </span>\n       </form>\n      </div>\n     </div>\n     <div id=\"u1\">\n      <a class=\"mnav\" href=\"http://news.baidu.com\" name=\"tj_trnews\">\n       新闻\n      </a>\n      <a class=\"mnav\" href=\"http://www.hao123.com\" name=\"tj_trhao123\">\n       hao123\n      </a>\n      <a class=\"mnav\" href=\"http://map.baidu.com\" name=\"tj_trmap\">\n       地图\n      </a>\n      <a class=\"mnav\" href=\"http://v.baidu.com\" name=\"tj_trvideo\">\n       视频\n      </a>\n      <a class=\"mnav\" href=\"http://tieba.baidu.com\" name=\"tj_trtieba\">\n       贴吧\n      </a>\n      <noscript>\n       <a class=\"lb\" href=\"http://www.baidu.com/bdorz/login.gif?login&amp;tpl=mn&amp;u=http%3A%2F%2Fwww.baidu.com%2f%3fbdorz_come%3d1\" name=\"tj_login\">\n        登录\n       </a>\n      </noscript>\n      <script>\n       document.write('<a href=\"http://www.baidu.com/bdorz/login.gif?login&tpl=mn&u='+ encodeURIComponent(window.location.href+ (window.location.search === \"\" ? \"?\" : \"&\")+ \"bdorz_come=1\")+ '\" name=\"tj_login\" class=\"lb\">登录</a>');\n      </script>\n      <a class=\"bri\" href=\"//www.baidu.com/more/\" name=\"tj_briicon\" style=\"display: block;\">\n       更多产品\n      </a>\n     </div>\n    </div>\n   </div>\n   <div id=\"ftCon\">\n    <div id=\"ftConw\">\n     <p id=\"lh\">\n      <a href=\"http://home.baidu.com\">\n       关于百度\n      </a>\n      <a href=\"http://ir.baidu.com\">\n       About Baidu\n      </a>\n     </p>\n     <p id=\"cp\">\n      ©2017 Baidu\n      <a href=\"http://www.baidu.com/duty/\">\n       使用百度前必读\n      </a>\n      <a class=\"cp-feedback\" href=\"http://jianyi.baidu.com/\">\n       意见反馈\n      </a>\n      京ICP证030173号\n      <img src=\"//www.baidu.com/img/gs.gif\"/>\n     </p>\n    </div>\n   </div>\n  </div>\n </body>\n</html>\n\n"
     ]
    }
   ],
   "source": [
    "# BeautifulSoup格式化输出\n",
    "print(soup.prettify())"
   ]
  },
  {
   "source": [
    "2.对象种类\n",
    "* Tag\n",
    "* NavigableString\n",
    "* BeautifulSoup\n",
    "* Comment"
   ],
   "cell_type": "markdown",
   "metadata": {}
  },
  {
   "source": [
    "(1)Tag"
   ],
   "cell_type": "markdown",
   "metadata": {}
  },
  {
   "cell_type": "code",
   "execution_count": 13,
   "metadata": {},
   "outputs": [
    {
     "output_type": "stream",
     "name": "stdout",
     "text": [
      "<title>百度一下，你就知道</title>\n"
     ]
    }
   ],
   "source": [
    "# Tag对象与XML或HTML原生文档中的Tag相同，通俗点说就是标记。比如<title>The Dormouse's story</title>或者<a href=\"http://example.com/elsie\" class=\"sister\" id=\"link1\">Elsie</a>, title和a标记及其里面的内容称为Tag对象。\n",
    "print(soup.title)"
   ]
  },
  {
   "cell_type": "code",
   "execution_count": 15,
   "metadata": {},
   "outputs": [
    {
     "output_type": "stream",
     "name": "stdout",
     "text": [
      "<a class=\"mnav\" href=\"http://news.baidu.com\" name=\"tj_trnews\">新闻</a>\n"
     ]
    }
   ],
   "source": [
    "# 利用这种方式，查找的是在所有内容中第一个符合要求的标记\n",
    "print(soup.a)"
   ]
  },
  {
   "cell_type": "code",
   "execution_count": 17,
   "metadata": {},
   "outputs": [
    {
     "output_type": "stream",
     "name": "stdout",
     "text": [
      "[document]\ntitle\n"
     ]
    }
   ],
   "source": [
    "# 每个Tag都有自己的名字，通过．name来获取\n",
    "print(soup.name)\n",
    "print(soup.title.name)"
   ]
  },
  {
   "cell_type": "code",
   "execution_count": 18,
   "metadata": {},
   "outputs": [
    {
     "output_type": "stream",
     "name": "stdout",
     "text": [
      "None\n<mytitle>百度一下，你就知道</mytitle>\n"
     ]
    }
   ],
   "source": [
    "# Tag不仅可以获取name，还可以修改name，改变之后将影响所有通过当前Beautiful Soup对象生成的HTML文档\n",
    "soup.title.name = 'mytitle'\n",
    "print(soup.title)\n",
    "print(soup.mytitle)"
   ]
  },
  {
   "cell_type": "code",
   "execution_count": 20,
   "metadata": {},
   "outputs": [
    {
     "output_type": "stream",
     "name": "stdout",
     "text": [
      "['mnav']\n['mnav']\n"
     ]
    }
   ],
   "source": [
    "# Tag的属性的操作方法与字典相同\n",
    "print(soup.a['class'])\n",
    "print(soup.a.get('class'))"
   ]
  },
  {
   "cell_type": "code",
   "execution_count": 21,
   "metadata": {},
   "outputs": [
    {
     "output_type": "stream",
     "name": "stdout",
     "text": [
      "{'href': 'http://news.baidu.com', 'name': 'tj_trnews', 'class': ['mnav']}\n"
     ]
    }
   ],
   "source": [
    "# 也可以直接“点”取属性，比如：.attrs，用于获取Tag中所有属性\n",
    "print(soup.a.attrs)"
   ]
  },
  {
   "cell_type": "code",
   "execution_count": 22,
   "metadata": {},
   "outputs": [
    {
     "output_type": "stream",
     "name": "stdout",
     "text": [
      "<a class=\"myClass\" href=\"http://news.baidu.com\" name=\"tj_trnews\">新闻</a>\n"
     ]
    }
   ],
   "source": [
    "# 和name一样，我们可以对标记中的这些属性和内容等进行修改\n",
    "soup.a['class'] = 'myClass'\n",
    "print(soup.a)"
   ]
  },
  {
   "source": [
    "(2)NavigableString"
   ],
   "cell_type": "markdown",
   "metadata": {}
  },
  {
   "cell_type": "code",
   "execution_count": 23,
   "metadata": {},
   "outputs": [
    {
     "output_type": "stream",
     "name": "stdout",
     "text": [
      "<a class=\"myClass\" href=\"http://news.baidu.com\" name=\"tj_trnews\">新闻</a>\n新闻\n<class 'bs4.element.NavigableString'>\n"
     ]
    }
   ],
   "source": [
    "# 获取标记内部的文字需要用到．string\n",
    "print(soup.a)\n",
    "print(soup.a.string)\n",
    "print(type(soup.a.string))"
   ]
  },
  {
   "cell_type": "code",
   "execution_count": 26,
   "metadata": {},
   "outputs": [
    {
     "output_type": "execute_result",
     "data": {
      "text/plain": [
       "'新闻'"
      ]
     },
     "metadata": {},
     "execution_count": 26
    }
   ],
   "source": [
    "# python2通过unicode()方法可以直接将NavigableString对象转换成Unicode字符串\n",
    "# 在Python3中，unicode已重命名为str\n",
    "import string\n",
    "unicode_string = str(soup.a.string)\n",
    "unicode_string"
   ]
  },
  {
   "source": [
    "(3)BeautifulSoup\n",
    "> BeautifulSoup对象表示的是一个文档的全部内容。大部分时候，可以把它当作Tag对象，是一个特殊的Tag，因为BeautifulSoup对象并不是真正的HTML或XML的标记，所以它没有name和attribute属性。但为了将BeautifulSoup对象标准化为Tag对象，实现接口的统一，我们依然可以分别获取它的name和attribute属性。"
   ],
   "cell_type": "markdown",
   "metadata": {}
  },
  {
   "cell_type": "code",
   "execution_count": 28,
   "metadata": {},
   "outputs": [
    {
     "output_type": "stream",
     "name": "stdout",
     "text": [
      "<class 'str'>\n[document]\n{}\n"
     ]
    }
   ],
   "source": [
    "print(type(soup.name))\n",
    "print(soup.name)\n",
    "print(soup.attrs)"
   ]
  },
  {
   "source": [
    "(4)Comment"
   ],
   "cell_type": "markdown",
   "metadata": {}
  },
  {
   "cell_type": "code",
   "execution_count": null,
   "metadata": {},
   "outputs": [],
   "source": [
    "# Tag、NavigableString、BeautifulSoup几乎覆盖了HTML和XML中的所有内容，但是还有一些特殊对象,比如文档的注释部分\n",
    "\n",
    "#假设a标签内有注释内容，如果我们利用．string来输出它的内容，会发现它已经把注释符号去掉了。打印输出它的类型，会发现它是一个Comment类型。如果在我们不清楚这个标记．string的情况下，可能造成数据提取混乱。因此在提取字符串时，可以判断一下类型\n",
    "import bs4\n",
    "if type(soup.a.string) == bs4.element.Comment:\n",
    "    print(soup.a.string)"
   ]
  },
  {
   "source": [
    "3.遍历文档树"
   ],
   "cell_type": "markdown",
   "metadata": {}
  },
  {
   "source": [
    "（1）子节点"
   ],
   "cell_type": "markdown",
   "metadata": {}
  },
  {
   "cell_type": "code",
   "execution_count": 30,
   "metadata": {},
   "outputs": [
    {
     "output_type": "stream",
     "name": "stdout",
     "text": [
      "[<meta content=\"text/html;charset=utf-8\" http-equiv=\"content-type\"/>, <meta content=\"IE=Edge\" http-equiv=\"X-UA-Compatible\"/>, <meta content=\"always\" name=\"referrer\"/>, <link href=\"http://s1.bdstatic.com/r/www/cache/bdorz/baidu.min.css\" rel=\"stylesheet\" type=\"text/css\"/>, <mytitle>百度一下，你就知道</mytitle>]\n"
     ]
    }
   ],
   "source": [
    "# Tag的．contents属性可以将Tag子节点以列表的方式输出\n",
    "# 字符串没有．contents属性，因为字符串没有子节点。\n",
    "print(soup.head.contents)"
   ]
  },
  {
   "cell_type": "code",
   "execution_count": 31,
   "metadata": {},
   "outputs": [
    {
     "output_type": "stream",
     "name": "stdout",
     "text": [
      "5\nNone\n"
     ]
    }
   ],
   "source": [
    "# 既然输出方式是列表，我们就可以获取列表的大小，并通过列表索引获取里面的值\n",
    "print(len(soup.head.contents))\n",
    "print(soup.head.contents[0].string)"
   ]
  },
  {
   "cell_type": "code",
   "execution_count": 33,
   "metadata": {},
   "outputs": [
    {
     "output_type": "stream",
     "name": "stdout",
     "text": [
      "<meta content=\"text/html;charset=utf-8\" http-equiv=\"content-type\"/>\n<meta content=\"IE=Edge\" http-equiv=\"X-UA-Compatible\"/>\n<meta content=\"always\" name=\"referrer\"/>\n<link href=\"http://s1.bdstatic.com/r/www/cache/bdorz/baidu.min.css\" rel=\"stylesheet\" type=\"text/css\"/>\n<mytitle>百度一下，你就知道</mytitle>\n"
     ]
    }
   ],
   "source": [
    "# .children属性返回的是一个生成器，可以对Tag的子节点进行循环\n",
    "for child in soup.head.children:\n",
    "    print(child)"
   ]
  },
  {
   "source": [
    "* .contents和．children属性仅包含Tag的直接子节点"
   ],
   "cell_type": "markdown",
   "metadata": {}
  },
  {
   "cell_type": "code",
   "execution_count": 34,
   "metadata": {},
   "outputs": [
    {
     "output_type": "stream",
     "name": "stdout",
     "text": [
      "<meta content=\"text/html;charset=utf-8\" http-equiv=\"content-type\"/>\n<meta content=\"IE=Edge\" http-equiv=\"X-UA-Compatible\"/>\n<meta content=\"always\" name=\"referrer\"/>\n<link href=\"http://s1.bdstatic.com/r/www/cache/bdorz/baidu.min.css\" rel=\"stylesheet\" type=\"text/css\"/>\n<mytitle>百度一下，你就知道</mytitle>\n百度一下，你就知道\n"
     ]
    }
   ],
   "source": [
    "# .descendants属性可以对所有tag的子孙节点进行递归循环\n",
    "for child in soup.head.descendants:\n",
    "    print(child)"
   ]
  },
  {
   "cell_type": "code",
   "execution_count": 36,
   "metadata": {},
   "outputs": [
    {
     "output_type": "stream",
     "name": "stdout",
     "text": [
      "None\n百度一下，你就知道\n"
     ]
    }
   ],
   "source": [
    "# .string属性：如果一个标记里面没有标记了，那么.string就会返回标记里面的内容。如果标记里面只有唯一的一个标记了，那么.string也会返回最里面的内容。如果tag包含了多个子节点，tag就无法确定，string方法应该调用哪个子节点的内容，.string的输出结果是None。\n",
    "print(soup.head.string)\n",
    "print(soup.mytitle.string)"
   ]
  },
  {
   "cell_type": "code",
   "execution_count": 38,
   "metadata": {},
   "outputs": [
    {
     "output_type": "stream",
     "name": "stdout",
     "text": [
      " \n百度一下，你就知道\n \n \n \n \n \n \n \n \n \n \n \n \n \n \n \n \n \n \n \n \n \n新闻\n \nhao123\n \n地图\n \n视频\n \n贴吧\n \n \n登录\n \n \n \n更多产品\n \n \n \n \n \n \n \n关于百度\n \nAbout Baidu\n \n \n©2017 Baidu \n使用百度前必读\n  \n意见反馈\n 京ICP证030173号  \n \n \n \n \n \n \n"
     ]
    }
   ],
   "source": [
    "# .strings属性主要应用于tag中包含多个字符串的情况，可以进行循环遍历\n",
    "for string in soup.html.strings:\n",
    "    print(string)"
   ]
  },
  {
   "cell_type": "code",
   "execution_count": 39,
   "metadata": {},
   "outputs": [
    {
     "output_type": "stream",
     "name": "stdout",
     "text": [
      "百度一下，你就知道\n新闻\nhao123\n地图\n视频\n贴吧\n登录\n更多产品\n关于百度\nAbout Baidu\n©2017 Baidu\n使用百度前必读\n意见反馈\n京ICP证030173号\n"
     ]
    }
   ],
   "source": [
    "# .stripped_strings属性可以去掉输出字符串中包含的空格或空行\n",
    "for string in soup.html.stripped_strings:\n",
    "    print(string)"
   ]
  },
  {
   "source": [
    "（2）父节点"
   ],
   "cell_type": "markdown",
   "metadata": {}
  },
  {
   "cell_type": "code",
   "execution_count": 42,
   "metadata": {},
   "outputs": [
    {
     "output_type": "stream",
     "name": "stdout",
     "text": [
      "<title>百度一下，你就知道</title>\n<head><meta content=\"text/html;charset=utf-8\" http-equiv=\"content-type\"/><meta content=\"IE=Edge\" http-equiv=\"X-UA-Compatible\"/><meta content=\"always\" name=\"referrer\"/><link href=\"http://s1.bdstatic.com/r/www/cache/bdorz/baidu.min.css\" rel=\"stylesheet\" type=\"text/css\"/><title>百度一下，你就知道</title></head>\n"
     ]
    }
   ],
   "source": [
    "# 通过．parent属性来获取某个元素的父节点。在html_str中，<head>标记是<title>标记的父节点\n",
    "soup.mytitle.name = 'title'\n",
    "print(soup.title)\n",
    "print(soup.title.parent)"
   ]
  },
  {
   "cell_type": "code",
   "execution_count": 43,
   "metadata": {},
   "outputs": [
    {
     "output_type": "stream",
     "name": "stdout",
     "text": [
      "<a class=\"myClass\" href=\"http://news.baidu.com\" name=\"tj_trnews\">新闻</a>\ndiv\ndiv\ndiv\ndiv\nbody\nhtml\n[document]\n"
     ]
    }
   ],
   "source": [
    "# 通过元素的．parents属性可以递归得到元素的所有父辈节点\n",
    "print(soup.a)\n",
    "for parent in soup.a.parents:\n",
    "    if parent is None:\n",
    "        print(parent)\n",
    "    else:\n",
    "        print(parent.name)"
   ]
  },
  {
   "cell_type": "code",
   "execution_count": 46,
   "metadata": {},
   "outputs": [
    {
     "output_type": "stream",
     "name": "stdout",
     "text": [
      " \nNone\n<a class=\"mnav\" href=\"http://www.hao123.com\" name=\"tj_trhao123\">hao123</a>\n"
     ]
    }
   ],
   "source": [
    "# 兄弟节点可以理解为和本节点处在同一级的节点，.next_sibling属性可以获取该节点的下一个兄弟节点，.previous_sibling则与之相反，如果节点不存在，则返回None\n",
    "# 空白或者换行也可以被视作一个节点，所以得到的结果可能是空白或者换行\n",
    "# 通过．next_siblings和．previous_siblings属性可以对当前节点的兄弟节点迭代输出\n",
    "print(soup.a.next_sibling)\n",
    "print(soup.a.prev_sibling)\n",
    "print(soup.a.next_sibling.next_sibling)"
   ]
  },
  {
   "source": [
    "（4）前后节点"
   ],
   "cell_type": "markdown",
   "metadata": {}
  },
  {
   "cell_type": "code",
   "execution_count": 48,
   "metadata": {},
   "outputs": [
    {
     "output_type": "stream",
     "name": "stdout",
     "text": [
      "<head><meta content=\"text/html;charset=utf-8\" http-equiv=\"content-type\"/><meta content=\"IE=Edge\" http-equiv=\"X-UA-Compatible\"/><meta content=\"always\" name=\"referrer\"/><link href=\"http://s1.bdstatic.com/r/www/cache/bdorz/baidu.min.css\" rel=\"stylesheet\" type=\"text/css\"/><title>百度一下，你就知道</title></head>\n<meta content=\"text/html;charset=utf-8\" http-equiv=\"content-type\"/>\n"
     ]
    }
   ],
   "source": [
    "# 前后节点需要使用．next_element、.previous_element这两个属性，与．next_sibling.previous_sibling不同，它并不是针对于兄弟节点，而是针对所有节点，不分层次\n",
    "print(soup.head)\n",
    "print(soup.head.next_element)"
   ]
  },
  {
   "cell_type": "code",
   "execution_count": 49,
   "metadata": {},
   "outputs": [
    {
     "output_type": "stream",
     "name": "stdout",
     "text": [
      "'新闻'\n' '\n<a class=\"mnav\" href=\"http://www.hao123.com\" name=\"tj_trhao123\">hao123</a>\n'hao123'\n' '\n<a class=\"mnav\" href=\"http://map.baidu.com\" name=\"tj_trmap\">地图</a>\n'地图'\n' '\n<a class=\"mnav\" href=\"http://v.baidu.com\" name=\"tj_trvideo\">视频</a>\n'视频'\n' '\n<a class=\"mnav\" href=\"http://tieba.baidu.com\" name=\"tj_trtieba\">贴吧</a>\n'贴吧'\n' '\n<noscript> <a class=\"lb\" href=\"http://www.baidu.com/bdorz/login.gif?login&amp;tpl=mn&amp;u=http%3A%2F%2Fwww.baidu.com%2f%3fbdorz_come%3d1\" name=\"tj_login\">登录</a> </noscript>\n' '\n<a class=\"lb\" href=\"http://www.baidu.com/bdorz/login.gif?login&amp;tpl=mn&amp;u=http%3A%2F%2Fwww.baidu.com%2f%3fbdorz_come%3d1\" name=\"tj_login\">登录</a>\n'登录'\n' '\n' '\n<script>document.write('<a href=\"http://www.baidu.com/bdorz/login.gif?login&tpl=mn&u='+ encodeURIComponent(window.location.href+ (window.location.search === \"\" ? \"?\" : \"&\")+ \"bdorz_come=1\")+ '\" name=\"tj_login\" class=\"lb\">登录</a>');</script>\n'document.write(\\'<a href=\"http://www.baidu.com/bdorz/login.gif?login&tpl=mn&u=\\'+ encodeURIComponent(window.location.href+ (window.location.search === \"\" ? \"?\" : \"&\")+ \"bdorz_come=1\")+ \\'\" name=\"tj_login\" class=\"lb\">登录</a>\\');'\n' '\n<a class=\"bri\" href=\"//www.baidu.com/more/\" name=\"tj_briicon\" style=\"display: block;\">更多产品</a>\n'更多产品'\n' '\n' '\n' '\n' '\n<div id=\"ftCon\"> <div id=\"ftConw\"> <p id=\"lh\"> <a href=\"http://home.baidu.com\">关于百度</a> <a href=\"http://ir.baidu.com\">About Baidu</a> </p> <p id=\"cp\">©2017 Baidu <a href=\"http://www.baidu.com/duty/\">使用百度前必读</a>  <a class=\"cp-feedback\" href=\"http://jianyi.baidu.com/\">意见反馈</a> 京ICP证030173号  <img src=\"//www.baidu.com/img/gs.gif\"/> </p> </div> </div>\n' '\n<div id=\"ftConw\"> <p id=\"lh\"> <a href=\"http://home.baidu.com\">关于百度</a> <a href=\"http://ir.baidu.com\">About Baidu</a> </p> <p id=\"cp\">©2017 Baidu <a href=\"http://www.baidu.com/duty/\">使用百度前必读</a>  <a class=\"cp-feedback\" href=\"http://jianyi.baidu.com/\">意见反馈</a> 京ICP证030173号  <img src=\"//www.baidu.com/img/gs.gif\"/> </p> </div>\n' '\n<p id=\"lh\"> <a href=\"http://home.baidu.com\">关于百度</a> <a href=\"http://ir.baidu.com\">About Baidu</a> </p>\n' '\n<a href=\"http://home.baidu.com\">关于百度</a>\n'关于百度'\n' '\n<a href=\"http://ir.baidu.com\">About Baidu</a>\n'About Baidu'\n' '\n' '\n<p id=\"cp\">©2017 Baidu <a href=\"http://www.baidu.com/duty/\">使用百度前必读</a>  <a class=\"cp-feedback\" href=\"http://jianyi.baidu.com/\">意见反馈</a> 京ICP证030173号  <img src=\"//www.baidu.com/img/gs.gif\"/> </p>\n'©2017\\xa0Baidu\\xa0'\n<a href=\"http://www.baidu.com/duty/\">使用百度前必读</a>\n'使用百度前必读'\n'\\xa0 '\n<a class=\"cp-feedback\" href=\"http://jianyi.baidu.com/\">意见反馈</a>\n'意见反馈'\n'\\xa0京ICP证030173号\\xa0 '\n<img src=\"//www.baidu.com/img/gs.gif\"/>\n' '\n' '\n' '\n' '\n' '\n' '\n'\\n'\n"
     ]
    }
   ],
   "source": [
    "# 如果想遍历所有的前节点或者后节点，通过．next_elements和．previous_elements的迭代器就可以向前或向后访问文档的解析内容\n",
    "for element in soup.a.next_elements:\n",
    "    # repr() 函数将对象转化为供解释器读取的形式。\n",
    "    print(repr(element))"
   ]
  },
  {
   "source": [
    "4.搜索文档树"
   ],
   "cell_type": "markdown",
   "metadata": {}
  },
  {
   "cell_type": "code",
   "execution_count": 52,
   "metadata": {},
   "outputs": [
    {
     "output_type": "stream",
     "name": "stdout",
     "text": [
      "[<span class=\"bg s_ipt_wr\"><input autocomplete=\"off\" autofocus=\"\" class=\"s_ipt\" id=\"kw\" maxlength=\"255\" name=\"wd\" value=\"\"/></span>, <span class=\"bg s_btn_wr\"><input class=\"bg s_btn\" id=\"su\" type=\"submit\" value=\"百度一下\"/></span>]\n"
     ]
    }
   ],
   "source": [
    "# find_all方法，用于搜索当前Tag的所有Tag子节点，并判断是否符合过滤器的条件，函数原型如下：\n",
    "#  find_all(name,attrs,recursive,text,**kwargs)\n",
    "\n",
    "# 1.name参数\n",
    "# name参数可以查找所有名字为name的标记，字符串对象会被自动忽略掉。name参数取值可以是字符串、正则表达式、列表、True和方法\n",
    "print(soup.find_all('span'))"
   ]
  },
  {
   "cell_type": "code",
   "execution_count": 54,
   "metadata": {},
   "outputs": [
    {
     "output_type": "stream",
     "name": "stdout",
     "text": [
      "body\n"
     ]
    }
   ],
   "source": [
    "# 如果传入正则表达式作为参数，Beautiful Soup会通过正则表达式的match()来匹配内容。\n",
    "import re\n",
    "for tag in soup.find_all(re.compile('^b')):\n",
    "    print(tag.name)"
   ]
  },
  {
   "cell_type": "code",
   "execution_count": 55,
   "metadata": {},
   "outputs": [
    {
     "output_type": "stream",
     "name": "stdout",
     "text": [
      "[<a class=\"myClass\" href=\"http://news.baidu.com\" name=\"tj_trnews\">新闻</a>, <a class=\"mnav\" href=\"http://www.hao123.com\" name=\"tj_trhao123\">hao123</a>, <a class=\"mnav\" href=\"http://map.baidu.com\" name=\"tj_trmap\">地图</a>, <a class=\"mnav\" href=\"http://v.baidu.com\" name=\"tj_trvideo\">视频</a>, <a class=\"mnav\" href=\"http://tieba.baidu.com\" name=\"tj_trtieba\">贴吧</a>, <a class=\"lb\" href=\"http://www.baidu.com/bdorz/login.gif?login&amp;tpl=mn&amp;u=http%3A%2F%2Fwww.baidu.com%2f%3fbdorz_come%3d1\" name=\"tj_login\">登录</a>, <a class=\"bri\" href=\"//www.baidu.com/more/\" name=\"tj_briicon\" style=\"display: block;\">更多产品</a>, <a href=\"http://home.baidu.com\">关于百度</a>, <a href=\"http://ir.baidu.com\">About Baidu</a>, <a href=\"http://www.baidu.com/duty/\">使用百度前必读</a>, <a class=\"cp-feedback\" href=\"http://jianyi.baidu.com/\">意见反馈</a>]\n"
     ]
    }
   ],
   "source": [
    "# 如果传入列表参数，Beautiful Soup会将与列表中任一元素匹配的内容返回。下面的代码找到文档中所有<a>标记和<b>标记\n",
    "print(soup.find_all(['a','b']))"
   ]
  },
  {
   "cell_type": "code",
   "execution_count": 59,
   "metadata": {},
   "outputs": [
    {
     "output_type": "stream",
     "name": "stdout",
     "text": [
      "html\nhead\nmeta\nmeta\nmeta\nlink\ntitle\nbody\ndiv\ndiv\ndiv\ndiv\ndiv\ndiv\nimg\nform\ninput\ninput\ninput\ninput\ninput\ninput\nspan\ninput\nspan\ninput\ndiv\na\na\na\na\na\nnoscript\na\nscript\na\ndiv\ndiv\np\na\na\np\na\na\nimg\n"
     ]
    }
   ],
   "source": [
    "# 如果传入的参数是True, True可以匹配任何值，下面代码查找到所有的tag，但是不会返回字符串节点\n",
    "for tag in soup.find_all(True):\n",
    "    print(tag.name)"
   ]
  },
  {
   "cell_type": "code",
   "execution_count": 61,
   "metadata": {},
   "outputs": [
    {
     "output_type": "stream",
     "name": "stdout",
     "text": [
      "<form action=\"//www.baidu.com/s\" class=\"fm\" id=\"form\" name=\"f\"> <input name=\"bdorz_come\" type=\"hidden\" value=\"1\"/> <input name=\"ie\" type=\"hidden\" value=\"utf-8\"/> <input name=\"f\" type=\"hidden\" value=\"8\"/> <input name=\"rsv_bp\" type=\"hidden\" value=\"1\"/> <input name=\"rsv_idx\" type=\"hidden\" value=\"1\"/> <input name=\"tn\" type=\"hidden\" value=\"baidu\"/><span class=\"bg s_ipt_wr\"><input autocomplete=\"off\" autofocus=\"\" class=\"s_ipt\" id=\"kw\" maxlength=\"255\" name=\"wd\" value=\"\"/></span><span class=\"bg s_btn_wr\"><input class=\"bg s_btn\" id=\"su\" type=\"submit\" value=\"百度一下\"/></span> </form>\n<input autocomplete=\"off\" autofocus=\"\" class=\"s_ipt\" id=\"kw\" maxlength=\"255\" name=\"wd\" value=\"\"/>\n<input class=\"bg s_btn\" id=\"su\" type=\"submit\" value=\"百度一下\"/>\n"
     ]
    }
   ],
   "source": [
    "# 如果没有合适过滤器，那么还可以定义一个方法，方法只接受一个元素参数Tag节点，如果这个方法返回True表示当前元素匹配并且被找到，如果不是则返回False。比如过滤包含class属性，也包含id属性的元素\n",
    "def hasClass_Id(tag):\n",
    "    return tag.has_attr('class') and tag.has_attr('id')\n",
    "for tag in soup.find_all(hasClass_Id):\n",
    "    print(tag)"
   ]
  },
  {
   "cell_type": "code",
   "execution_count": 62,
   "metadata": {},
   "outputs": [
    {
     "output_type": "stream",
     "name": "stdout",
     "text": [
      "[<input class=\"bg s_btn\" id=\"su\" type=\"submit\" value=\"百度一下\"/>]\n"
     ]
    }
   ],
   "source": [
    "# 2.kwargs参数\n",
    "# kwargs参数在Python中表示为keyword参数。如果一个指定名字的参数不是搜索内置的参数名，搜索时会把该参数当作指定名字Tag的属性来搜索。搜索指定名字的属性时可以使用的参数值包括字符串、正则表达式、列表、True\n",
    "print(soup.find_all(id=\"su\"))"
   ]
  },
  {
   "cell_type": "code",
   "execution_count": 64,
   "metadata": {},
   "outputs": [
    {
     "output_type": "stream",
     "name": "stdout",
     "text": [
      "[<a class=\"mnav\" href=\"http://www.hao123.com\" name=\"tj_trhao123\">hao123</a>]\n"
     ]
    }
   ],
   "source": [
    "# 传入正则表达式\n",
    "print(soup.find_all(href = re.compile(\"hao123\")))"
   ]
  },
  {
   "cell_type": "code",
   "execution_count": 67,
   "metadata": {},
   "outputs": [
    {
     "output_type": "stream",
     "name": "stdout",
     "text": [
      "[<div class=\"head_wrapper\"> <div class=\"s_form\"> <div class=\"s_form_wrapper\"> <div id=\"lg\"> <img height=\"129\" hidefocus=\"true\" src=\"//www.baidu.com/img/bd_logo1.png\" width=\"270\"/> </div> <form action=\"//www.baidu.com/s\" class=\"fm\" id=\"form\" name=\"f\"> <input name=\"bdorz_come\" type=\"hidden\" value=\"1\"/> <input name=\"ie\" type=\"hidden\" value=\"utf-8\"/> <input name=\"f\" type=\"hidden\" value=\"8\"/> <input name=\"rsv_bp\" type=\"hidden\" value=\"1\"/> <input name=\"rsv_idx\" type=\"hidden\" value=\"1\"/> <input name=\"tn\" type=\"hidden\" value=\"baidu\"/><span class=\"bg s_ipt_wr\"><input autocomplete=\"off\" autofocus=\"\" class=\"s_ipt\" id=\"kw\" maxlength=\"255\" name=\"wd\" value=\"\"/></span><span class=\"bg s_btn_wr\"><input class=\"bg s_btn\" id=\"su\" type=\"submit\" value=\"百度一下\"/></span> </form> </div> </div> <div id=\"u1\"> <a class=\"myClass\" href=\"http://news.baidu.com\" name=\"tj_trnews\">新闻</a> <a class=\"mnav\" href=\"http://www.hao123.com\" name=\"tj_trhao123\">hao123</a> <a class=\"mnav\" href=\"http://map.baidu.com\" name=\"tj_trmap\">地图</a> <a class=\"mnav\" href=\"http://v.baidu.com\" name=\"tj_trvideo\">视频</a> <a class=\"mnav\" href=\"http://tieba.baidu.com\" name=\"tj_trtieba\">贴吧</a> <noscript> <a class=\"lb\" href=\"http://www.baidu.com/bdorz/login.gif?login&amp;tpl=mn&amp;u=http%3A%2F%2Fwww.baidu.com%2f%3fbdorz_come%3d1\" name=\"tj_login\">登录</a> </noscript> <script>document.write('<a href=\"http://www.baidu.com/bdorz/login.gif?login&tpl=mn&u='+ encodeURIComponent(window.location.href+ (window.location.search === \"\" ? \"?\" : \"&\")+ \"bdorz_come=1\")+ '\" name=\"tj_login\" class=\"lb\">登录</a>');</script> <a class=\"bri\" href=\"//www.baidu.com/more/\" name=\"tj_briicon\" style=\"display: block;\">更多产品</a> </div> </div>, <div class=\"s_form\"> <div class=\"s_form_wrapper\"> <div id=\"lg\"> <img height=\"129\" hidefocus=\"true\" src=\"//www.baidu.com/img/bd_logo1.png\" width=\"270\"/> </div> <form action=\"//www.baidu.com/s\" class=\"fm\" id=\"form\" name=\"f\"> <input name=\"bdorz_come\" type=\"hidden\" value=\"1\"/> <input name=\"ie\" type=\"hidden\" value=\"utf-8\"/> <input name=\"f\" type=\"hidden\" value=\"8\"/> <input name=\"rsv_bp\" type=\"hidden\" value=\"1\"/> <input name=\"rsv_idx\" type=\"hidden\" value=\"1\"/> <input name=\"tn\" type=\"hidden\" value=\"baidu\"/><span class=\"bg s_ipt_wr\"><input autocomplete=\"off\" autofocus=\"\" class=\"s_ipt\" id=\"kw\" maxlength=\"255\" name=\"wd\" value=\"\"/></span><span class=\"bg s_btn_wr\"><input class=\"bg s_btn\" id=\"su\" type=\"submit\" value=\"百度一下\"/></span> </form> </div> </div>, <div class=\"s_form_wrapper\"> <div id=\"lg\"> <img height=\"129\" hidefocus=\"true\" src=\"//www.baidu.com/img/bd_logo1.png\" width=\"270\"/> </div> <form action=\"//www.baidu.com/s\" class=\"fm\" id=\"form\" name=\"f\"> <input name=\"bdorz_come\" type=\"hidden\" value=\"1\"/> <input name=\"ie\" type=\"hidden\" value=\"utf-8\"/> <input name=\"f\" type=\"hidden\" value=\"8\"/> <input name=\"rsv_bp\" type=\"hidden\" value=\"1\"/> <input name=\"rsv_idx\" type=\"hidden\" value=\"1\"/> <input name=\"tn\" type=\"hidden\" value=\"baidu\"/><span class=\"bg s_ipt_wr\"><input autocomplete=\"off\" autofocus=\"\" class=\"s_ipt\" id=\"kw\" maxlength=\"255\" name=\"wd\" value=\"\"/></span><span class=\"bg s_btn_wr\"><input class=\"bg s_btn\" id=\"su\" type=\"submit\" value=\"百度一下\"/></span> </form> </div>, <form action=\"//www.baidu.com/s\" class=\"fm\" id=\"form\" name=\"f\"> <input name=\"bdorz_come\" type=\"hidden\" value=\"1\"/> <input name=\"ie\" type=\"hidden\" value=\"utf-8\"/> <input name=\"f\" type=\"hidden\" value=\"8\"/> <input name=\"rsv_bp\" type=\"hidden\" value=\"1\"/> <input name=\"rsv_idx\" type=\"hidden\" value=\"1\"/> <input name=\"tn\" type=\"hidden\" value=\"baidu\"/><span class=\"bg s_ipt_wr\"><input autocomplete=\"off\" autofocus=\"\" class=\"s_ipt\" id=\"kw\" maxlength=\"255\" name=\"wd\" value=\"\"/></span><span class=\"bg s_btn_wr\"><input class=\"bg s_btn\" id=\"su\" type=\"submit\" value=\"百度一下\"/></span> </form>, <span class=\"bg s_ipt_wr\"><input autocomplete=\"off\" autofocus=\"\" class=\"s_ipt\" id=\"kw\" maxlength=\"255\" name=\"wd\" value=\"\"/></span>, <input autocomplete=\"off\" autofocus=\"\" class=\"s_ipt\" id=\"kw\" maxlength=\"255\" name=\"wd\" value=\"\"/>, <span class=\"bg s_btn_wr\"><input class=\"bg s_btn\" id=\"su\" type=\"submit\" value=\"百度一下\"/></span>, <input class=\"bg s_btn\" id=\"su\" type=\"submit\" value=\"百度一下\"/>, <a class=\"myClass\" href=\"http://news.baidu.com\" name=\"tj_trnews\">新闻</a>, <a class=\"mnav\" href=\"http://www.hao123.com\" name=\"tj_trhao123\">hao123</a>, <a class=\"mnav\" href=\"http://map.baidu.com\" name=\"tj_trmap\">地图</a>, <a class=\"mnav\" href=\"http://v.baidu.com\" name=\"tj_trvideo\">视频</a>, <a class=\"mnav\" href=\"http://tieba.baidu.com\" name=\"tj_trtieba\">贴吧</a>, <a class=\"lb\" href=\"http://www.baidu.com/bdorz/login.gif?login&amp;tpl=mn&amp;u=http%3A%2F%2Fwww.baidu.com%2f%3fbdorz_come%3d1\" name=\"tj_login\">登录</a>, <a class=\"bri\" href=\"//www.baidu.com/more/\" name=\"tj_briicon\" style=\"display: block;\">更多产品</a>, <a class=\"cp-feedback\" href=\"http://jianyi.baidu.com/\">意见反馈</a>]\n"
     ]
    }
   ],
   "source": [
    "# 下面的代码在文档树中查找所有包含class属性的Tag，无论class的值是什么\n",
    "# 注意class本身是一个关键字，所有用class_来代替class\n",
    "print(soup.find_all(class_=True))"
   ]
  },
  {
   "cell_type": "code",
   "execution_count": 68,
   "metadata": {},
   "outputs": [
    {
     "output_type": "error",
     "ename": "SyntaxError",
     "evalue": "expression cannot contain assignment, perhaps you meant \"==\"? (<ipython-input-68-1c355ded8a16>, line 3)",
     "traceback": [
      "\u001b[1;36m  File \u001b[1;32m\"<ipython-input-68-1c355ded8a16>\"\u001b[1;36m, line \u001b[1;32m3\u001b[0m\n\u001b[1;33m    data_soup.find_all(data-foo=\"value\")\u001b[0m\n\u001b[1;37m                       ^\u001b[0m\n\u001b[1;31mSyntaxError\u001b[0m\u001b[1;31m:\u001b[0m expression cannot contain assignment, perhaps you meant \"==\"?\n"
     ]
    }
   ],
   "source": [
    "# 有些tag属性在搜索不能使用，比如HTML5中的data-*属性\n",
    "data_soup = BeautifulSoup('<div data-foo=\"value\">foo!</div>')\n",
    "data_soup.find_all(data-foo=\"value\")"
   ]
  },
  {
   "cell_type": "code",
   "execution_count": 69,
   "metadata": {},
   "outputs": [
    {
     "output_type": "execute_result",
     "data": {
      "text/plain": [
       "[<div data-foo=\"value\">foo!</div>]"
      ]
     },
     "metadata": {},
     "execution_count": 69
    }
   ],
   "source": [
    "# 但是可以通过find_all()方法的attrs参数定义一个字典参数来搜索包含特殊属性的tag\n",
    "data_soup = BeautifulSoup('<div data-foo=\"value\">foo!</div>')\n",
    "data_soup.find_all(attrs={'data-foo':\"value\"})"
   ]
  },
  {
   "cell_type": "code",
   "execution_count": 71,
   "metadata": {},
   "outputs": [
    {
     "output_type": "stream",
     "name": "stdout",
     "text": [
      "['百度一下，你就知道', '关于百度', '使用百度前必读']\n"
     ]
    }
   ],
   "source": [
    "# 3.text参数\n",
    "# 通过text参数可以搜索文档中的字符串内容。与name参数的可选值一样，text参数接受字符串、正则表达式、列表、True。\n",
    "print(soup.find_all(text=re.compile('百度')))"
   ]
  },
  {
   "cell_type": "code",
   "execution_count": 72,
   "metadata": {},
   "outputs": [
    {
     "output_type": "execute_result",
     "data": {
      "text/plain": [
       "[<a class=\"myClass\" href=\"http://news.baidu.com\" name=\"tj_trnews\">新闻</a>,\n",
       " <a class=\"mnav\" href=\"http://www.hao123.com\" name=\"tj_trhao123\">hao123</a>,\n",
       " <a class=\"mnav\" href=\"http://map.baidu.com\" name=\"tj_trmap\">地图</a>]"
      ]
     },
     "metadata": {},
     "execution_count": 72
    }
   ],
   "source": [
    "# 4.limit参数\n",
    "# find_all()方法返回全部的搜索结构，如果文档树很大那么搜索会很慢。如果我们不需要全部结果，可以使用limit参数限制返回结果的数量。效果与SQL中的limit关键字类似，当搜索到的结果数量达到limit的限制时，就停止搜索返回结果。\n",
    "soup.find_all('a',limit=3)"
   ]
  },
  {
   "cell_type": "code",
   "execution_count": 73,
   "metadata": {},
   "outputs": [
    {
     "output_type": "stream",
     "name": "stdout",
     "text": [
      "[<title>百度一下，你就知道</title>]\n[]\n"
     ]
    }
   ],
   "source": [
    "# 5.recursive参数\n",
    "# 调用tag的find_all()方法时，Beautiful Soup会检索当前tag的所有子孙节点，如果只想搜索tag的直接子节点，可以使用参数recursive=False。\n",
    "print(soup.find_all('title'))\n",
    "print(soup.find_all('title',recursive=False))"
   ]
  },
  {
   "source": [
    "![](./图片/2.png)"
   ],
   "cell_type": "markdown",
   "metadata": {}
  },
  {
   "source": [
    "5.CSS选择器    "
   ],
   "cell_type": "markdown",
   "metadata": {}
  },
  {
   "source": [
    "![](./图片/3.png)"
   ],
   "cell_type": "markdown",
   "metadata": {}
  },
  {
   "source": [
    "（1）通过标记名称进行查找"
   ],
   "cell_type": "markdown",
   "metadata": {}
  },
  {
   "cell_type": "code",
   "execution_count": 78,
   "metadata": {},
   "outputs": [
    {
     "output_type": "stream",
     "name": "stdout",
     "text": [
      "[<title>百度一下，你就知道</title>]\n[<title>百度一下，你就知道</title>]\n[<title>百度一下，你就知道</title>]\n[<a class=\"mnav\" href=\"http://www.hao123.com\" name=\"tj_trhao123\">hao123</a>, <a class=\"mnav\" href=\"http://map.baidu.com\" name=\"tj_trmap\">地图</a>, <a class=\"mnav\" href=\"http://v.baidu.com\" name=\"tj_trvideo\">视频</a>, <a class=\"mnav\" href=\"http://tieba.baidu.com\" name=\"tj_trtieba\">贴吧</a>]\n[]\n[<div id=\"u1\"> <a class=\"myClass\" href=\"http://news.baidu.com\" name=\"tj_trnews\">新闻</a> <a class=\"mnav\" href=\"http://www.hao123.com\" name=\"tj_trhao123\">hao123</a> <a class=\"mnav\" href=\"http://map.baidu.com\" name=\"tj_trmap\">地图</a> <a class=\"mnav\" href=\"http://v.baidu.com\" name=\"tj_trvideo\">视频</a> <a class=\"mnav\" href=\"http://tieba.baidu.com\" name=\"tj_trtieba\">贴吧</a> <noscript> <a class=\"lb\" href=\"http://www.baidu.com/bdorz/login.gif?login&amp;tpl=mn&amp;u=http%3A%2F%2Fwww.baidu.com%2f%3fbdorz_come%3d1\" name=\"tj_login\">登录</a> </noscript> <script>document.write('<a href=\"http://www.baidu.com/bdorz/login.gif?login&tpl=mn&u='+ encodeURIComponent(window.location.href+ (window.location.search === \"\" ? \"?\" : \"&\")+ \"bdorz_come=1\")+ '\" name=\"tj_login\" class=\"lb\">登录</a>');</script> <a class=\"bri\" href=\"//www.baidu.com/more/\" name=\"tj_briicon\" style=\"display: block;\">更多产品</a> </div>]\n"
     ]
    }
   ],
   "source": [
    "# 直接查找title标记\n",
    "print(soup.select(\"title\"))\n",
    "# 逐层查找title标记\n",
    "print(soup.select(\"html head title\"))\n",
    "# 查找直接子节点\n",
    "# 查找head下的title标记\n",
    "print(soup.select(\"head > title\"))\n",
    "# 查找div下的class=\"mnav\"的标记\n",
    "print(soup.select(\"div > .mnav\"))\n",
    "# 查找兄弟节点\n",
    "# 查找id=\"u1\"之后class=mnav的所有兄弟标记\n",
    "print(soup.select(\"#u1 ~ .mnav\"))\n",
    "# 查找紧跟着class=\"s_form\"之后id=\"u1\"的子标记\n",
    "print(soup.select(\".s_form + #u1\"))"
   ]
  },
  {
   "source": [
    "（2）通过CSS的类名来查找"
   ],
   "cell_type": "markdown",
   "metadata": {}
  },
  {
   "cell_type": "code",
   "execution_count": 85,
   "metadata": {},
   "outputs": [
    {
     "output_type": "stream",
     "name": "stdout",
     "text": [
      "[<a class=\"mnav\" href=\"http://www.hao123.com\" name=\"tj_trhao123\">hao123</a>, <a class=\"mnav\" href=\"http://map.baidu.com\" name=\"tj_trmap\">地图</a>, <a class=\"mnav\" href=\"http://v.baidu.com\" name=\"tj_trvideo\">视频</a>, <a class=\"mnav\" href=\"http://tieba.baidu.com\" name=\"tj_trtieba\">贴吧</a>]\n[<a class=\"mnav\" href=\"http://www.hao123.com\" name=\"tj_trhao123\">hao123</a>, <a class=\"mnav\" href=\"http://map.baidu.com\" name=\"tj_trmap\">地图</a>, <a class=\"mnav\" href=\"http://v.baidu.com\" name=\"tj_trvideo\">视频</a>, <a class=\"mnav\" href=\"http://tieba.baidu.com\" name=\"tj_trtieba\">贴吧</a>]\n"
     ]
    }
   ],
   "source": [
    "print(soup.select('.mnav'))\n",
    "# 选择class属性包含字符串mnav的所有元素\n",
    "print(soup.select('[class ~= mnav]'))"
   ]
  },
  {
   "source": [
    "（3）通过tag的id查找"
   ],
   "cell_type": "markdown",
   "metadata": {}
  },
  {
   "cell_type": "code",
   "execution_count": 88,
   "metadata": {},
   "outputs": [
    {
     "output_type": "stream",
     "name": "stdout",
     "text": [
      "[<input class=\"bg s_btn\" id=\"su\" type=\"submit\" value=\"百度一下\"/>]\n[<input class=\"bg s_btn\" id=\"su\" type=\"submit\" value=\"百度一下\"/>]\n"
     ]
    }
   ],
   "source": [
    "print(soup.select('#su'))\n",
    "print(soup.select('input#su'))"
   ]
  },
  {
   "source": [
    "（4）通过是否存在某个属性来查找"
   ],
   "cell_type": "markdown",
   "metadata": {}
  },
  {
   "cell_type": "code",
   "execution_count": 89,
   "metadata": {},
   "outputs": [
    {
     "output_type": "stream",
     "name": "stdout",
     "text": [
      "[<a class=\"myClass\" href=\"http://news.baidu.com\" name=\"tj_trnews\">新闻</a>, <a class=\"mnav\" href=\"http://www.hao123.com\" name=\"tj_trhao123\">hao123</a>, <a class=\"mnav\" href=\"http://map.baidu.com\" name=\"tj_trmap\">地图</a>, <a class=\"mnav\" href=\"http://v.baidu.com\" name=\"tj_trvideo\">视频</a>, <a class=\"mnav\" href=\"http://tieba.baidu.com\" name=\"tj_trtieba\">贴吧</a>, <a class=\"lb\" href=\"http://www.baidu.com/bdorz/login.gif?login&amp;tpl=mn&amp;u=http%3A%2F%2Fwww.baidu.com%2f%3fbdorz_come%3d1\" name=\"tj_login\">登录</a>, <a class=\"bri\" href=\"//www.baidu.com/more/\" name=\"tj_briicon\" style=\"display: block;\">更多产品</a>, <a href=\"http://home.baidu.com\">关于百度</a>, <a href=\"http://ir.baidu.com\">About Baidu</a>, <a href=\"http://www.baidu.com/duty/\">使用百度前必读</a>, <a class=\"cp-feedback\" href=\"http://jianyi.baidu.com/\">意见反馈</a>]\n"
     ]
    }
   ],
   "source": [
    "print(soup.select('a[href]'))"
   ]
  },
  {
   "source": [
    "（5）通过属性值来查找"
   ],
   "cell_type": "markdown",
   "metadata": {}
  },
  {
   "cell_type": "code",
   "execution_count": 90,
   "metadata": {},
   "outputs": [
    {
     "output_type": "stream",
     "name": "stdout",
     "text": [
      "[<a class=\"myClass\" href=\"http://news.baidu.com\" name=\"tj_trnews\">新闻</a>]\n[<a class=\"myClass\" href=\"http://news.baidu.com\" name=\"tj_trnews\">新闻</a>, <a class=\"mnav\" href=\"http://www.hao123.com\" name=\"tj_trhao123\">hao123</a>, <a class=\"mnav\" href=\"http://map.baidu.com\" name=\"tj_trmap\">地图</a>, <a class=\"mnav\" href=\"http://v.baidu.com\" name=\"tj_trvideo\">视频</a>, <a class=\"mnav\" href=\"http://tieba.baidu.com\" name=\"tj_trtieba\">贴吧</a>, <a class=\"lb\" href=\"http://www.baidu.com/bdorz/login.gif?login&amp;tpl=mn&amp;u=http%3A%2F%2Fwww.baidu.com%2f%3fbdorz_come%3d1\" name=\"tj_login\">登录</a>, <a href=\"http://home.baidu.com\">关于百度</a>, <a href=\"http://ir.baidu.com\">About Baidu</a>, <a href=\"http://www.baidu.com/duty/\">使用百度前必读</a>, <a class=\"cp-feedback\" href=\"http://jianyi.baidu.com/\">意见反馈</a>]\n[<a class=\"myClass\" href=\"http://news.baidu.com\" name=\"tj_trnews\">新闻</a>, <a class=\"mnav\" href=\"http://map.baidu.com\" name=\"tj_trmap\">地图</a>, <a class=\"mnav\" href=\"http://v.baidu.com\" name=\"tj_trvideo\">视频</a>, <a class=\"mnav\" href=\"http://tieba.baidu.com\" name=\"tj_trtieba\">贴吧</a>, <a href=\"http://home.baidu.com\">关于百度</a>, <a href=\"http://ir.baidu.com\">About Baidu</a>]\n[<a class=\"myClass\" href=\"http://news.baidu.com\" name=\"tj_trnews\">新闻</a>, <a class=\"mnav\" href=\"http://map.baidu.com\" name=\"tj_trmap\">地图</a>, <a class=\"mnav\" href=\"http://v.baidu.com\" name=\"tj_trvideo\">视频</a>, <a class=\"mnav\" href=\"http://tieba.baidu.com\" name=\"tj_trtieba\">贴吧</a>, <a class=\"lb\" href=\"http://www.baidu.com/bdorz/login.gif?login&amp;tpl=mn&amp;u=http%3A%2F%2Fwww.baidu.com%2f%3fbdorz_come%3d1\" name=\"tj_login\">登录</a>, <a class=\"bri\" href=\"//www.baidu.com/more/\" name=\"tj_briicon\" style=\"display: block;\">更多产品</a>, <a href=\"http://home.baidu.com\">关于百度</a>, <a href=\"http://ir.baidu.com\">About Baidu</a>, <a href=\"http://www.baidu.com/duty/\">使用百度前必读</a>, <a class=\"cp-feedback\" href=\"http://jianyi.baidu.com/\">意见反馈</a>]\n"
     ]
    }
   ],
   "source": [
    "print(soup.select('a[href = \"http://news.baidu.com\"]'))\n",
    "# 选择href以http:// 开头的所有a标签\n",
    "print(soup.select('a[href ^= \"http://\"]'))\n",
    "# 选择href以baidu.com结尾的所有a标签\n",
    "print(soup.select('a[href $= \"baidu.com\"]'))\n",
    "# 选择href属性值包含字符串\"baidu\"的每个<a>标签\n",
    "print(soup.select('a[href *= \"baidu\"]'))\n"
   ]
  },
  {
   "cell_type": "code",
   "execution_count": null,
   "metadata": {},
   "outputs": [],
   "source": []
  }
 ]
}