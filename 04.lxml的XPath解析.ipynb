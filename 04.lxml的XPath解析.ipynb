{
 "metadata": {
  "language_info": {
   "codemirror_mode": {
    "name": "ipython",
    "version": 3
   },
   "file_extension": ".py",
   "mimetype": "text/x-python",
   "name": "python",
   "nbconvert_exporter": "python",
   "pygments_lexer": "ipython3",
   "version": "3.8.5-final"
  },
  "orig_nbformat": 2,
  "kernelspec": {
   "name": "python3",
   "display_name": "Python 3",
   "language": "python"
  }
 },
 "nbformat": 4,
 "nbformat_minor": 2,
 "cells": [
  {
   "source": [
    "BeautifulSoup可以将lxml作为默认的解析器使用，同样lxml可以单独使用。下面比较一下这两者之间的优缺点：\n",
    "* BeautifulSoup和lxml的原理不一样，BeautifulSoup是基于DOM的，会载入整个文档，解析整个DOM树，因此时间和内存开销都会大很多。而lxml是使用XPath技术查询和处理HTML/XML文档的库，只会局部遍历，所以速度会快一些。幸好现在BeautifulSoup可以使用lxml作为默认解析库。\n",
    "* BeautifulSoup用起来比较简单，API非常人性化，支持CSS选择器，适合新手。lxml的XPath写起来麻烦，开发效率不如BeautifulSoup，当然这也是因人而异，如果你能熟练使用XPath，那么使用lxml是更好的选择，况且现在又有了FirePath这样的自动生成XPath表达式的利器。"
   ],
   "cell_type": "markdown",
   "metadata": {}
  },
  {
   "cell_type": "code",
   "execution_count": 2,
   "metadata": {},
   "outputs": [
    {
     "output_type": "stream",
     "name": "stdout",
     "text": [
      "b'<html> <head><meta http-equiv=\"content-type\" content=\"text/html;charset=utf-8\"/><meta http-equiv=\"X-UA-Compatible\" content=\"IE=Edge\"/><meta content=\"always\" name=\"referrer\"/><link rel=\"stylesheet\" type=\"text/css\" href=\"http://s1.bdstatic.com/r/www/cache/bdorz/baidu.min.css\"/><title>&#30334;&#24230;&#19968;&#19979;&#65292;&#20320;&#23601;&#30693;&#36947;</title></head> <body link=\"#0000cc\"> <div id=\"wrapper\"> <div id=\"head\"> <div class=\"head_wrapper\"> <div class=\"s_form\"> <div class=\"s_form_wrapper\"> <div id=\"lg\"> <img hidefocus=\"true\" src=\"//www.baidu.com/img/bd_logo1.png\" width=\"270\" height=\"129\"/> </div> <form id=\"form\" name=\"f\" action=\"//www.baidu.com/s\" class=\"fm\"> <input type=\"hidden\" name=\"bdorz_come\" value=\"1\"/> <input type=\"hidden\" name=\"ie\" value=\"utf-8\"/> <input type=\"hidden\" name=\"f\" value=\"8\"/> <input type=\"hidden\" name=\"rsv_bp\" value=\"1\"/> <input type=\"hidden\" name=\"rsv_idx\" value=\"1\"/> <input type=\"hidden\" name=\"tn\" value=\"baidu\"/><span class=\"bg s_ipt_wr\"><input id=\"kw\" name=\"wd\" class=\"s_ipt\" value=\"\" maxlength=\"255\" autocomplete=\"off\" autofocus=\"\"/></span><span class=\"bg s_btn_wr\"><input type=\"submit\" id=\"su\" value=\"&#30334;&#24230;&#19968;&#19979;\" class=\"bg s_btn\"/></span> </form> </div> </div> <div id=\"u1\"> <a href=\"http://news.baidu.com\" name=\"tj_trnews\" class=\"mnav\">&#26032;&#38395;</a> <a href=\"http://www.hao123.com\" name=\"tj_trhao123\" class=\"mnav\">hao123</a> <a href=\"http://map.baidu.com\" name=\"tj_trmap\" class=\"mnav\">&#22320;&#22270;</a> <a href=\"http://v.baidu.com\" name=\"tj_trvideo\" class=\"mnav\">&#35270;&#39057;</a> <a href=\"http://tieba.baidu.com\" name=\"tj_trtieba\" class=\"mnav\">&#36148;&#21543;</a> <noscript> <a href=\"http://www.baidu.com/bdorz/login.gif?login&amp;tpl=mn&amp;u=http%3A%2F%2Fwww.baidu.com%2f%3fbdorz_come%3d1\" name=\"tj_login\" class=\"lb\">&#30331;&#24405;</a> </noscript> <script>document.write(\\'&lt;a href=\"http://www.baidu.com/bdorz/login.gif?login&amp;tpl=mn&amp;u=\\'+ encodeURIComponent(window.location.href+ (window.location.search === \"\" ? \"?\" : \"&amp;\")+ \"bdorz_come=1\")+ \\'\" name=\"tj_login\" class=\"lb\"&gt;&#30331;&#24405;&lt;/a&gt;\\');</script> <a href=\"//www.baidu.com/more/\" name=\"tj_briicon\" class=\"bri\" style=\"display: block;\">&#26356;&#22810;&#20135;&#21697;</a> </div> </div> </div> <div id=\"ftCon\"> <div id=\"ftConw\"> <p id=\"lh\"> <a href=\"http://home.baidu.com\">&#20851;&#20110;&#30334;&#24230;</a> <a href=\"http://ir.baidu.com\">About Baidu</a> </p> <p id=\"cp\">&#169;2017&#160;Baidu&#160;<a href=\"http://www.baidu.com/duty/\">&#20351;&#29992;&#30334;&#24230;&#21069;&#24517;&#35835;</a>&#160; <a href=\"http://jianyi.baidu.com/\" class=\"cp-feedback\">&#24847;&#35265;&#21453;&#39304;</a>&#160;&#20140;ICP&#35777;030173&#21495;&#160; <img src=\"//www.baidu.com/img/gs.gif\"/> </p> </div> </div> </div> </body> </html>'\n"
     ]
    }
   ],
   "source": [
    "# 如果html_str没有闭合(例如,<body>后面没有</body>)，lxml可以自动修正html代码\n",
    "import requests\n",
    "from lxml import etree\n",
    "r = requests.get('http://www.baidu.com')\n",
    "r.encoding = 'utf-8'\n",
    "html_str = r.text\n",
    "html = etree.HTML(html_str)\n",
    "result = etree.tostring(html)\n",
    "print(result)"
   ]
  },
  {
   "cell_type": "code",
   "execution_count": null,
   "metadata": {},
   "outputs": [],
   "source": [
    "# 除了读取字符串之外，lxml还可以直接读取html文件。假如将html_str存储为index.html文件，利用parse方法进行解析\n",
    "import lxml import etree\n",
    "html = etree.parse('index.html')\n",
    "result = etree.tostring(html,pretty_print=True)\n",
    "print(result)"
   ]
  },
  {
   "cell_type": "code",
   "execution_count": 16,
   "metadata": {},
   "outputs": [
    {
     "output_type": "stream",
     "name": "stdout",
     "text": [
      "http://news.baidu.com\nhttp://www.hao123.com\nhttp://map.baidu.com\nhttp://v.baidu.com\nhttp://tieba.baidu.com\n"
     ]
    }
   ],
   "source": [
    "# 使用XPath语法获取URL链接\n",
    "urls = html.xpath(\"//*[@class='mnav']/@href\")\n",
    "for url in urls:\n",
    "    print(url)"
   ]
  }
 ]
}